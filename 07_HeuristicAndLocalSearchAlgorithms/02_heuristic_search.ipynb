{
 "cells": [
  {
   "cell_type": "markdown",
   "metadata": {},
   "source": [
    "# Exercise Informed Search Algorithms #\n"
   ]
  },
  {
   "cell_type": "markdown",
   "metadata": {},
   "source": [
    "In the last session, we implemented different systematic search strategies. If we want to find paths between different cities in a map, we can use additional information to guide our search. We don't rely on the 'blind' search and can implement more efficient algorithms, that consider the coordinates of the cities for example."
   ]
  },
  {
   "cell_type": "markdown",
   "metadata": {},
   "source": [
    "Implement the following algorithms and answer the same questions as you did for the systematic search algorithms.\n",
    "\n",
    "1. A* Algorithm\n",
    "1. IDA* Search"
   ]
  },
  {
   "cell_type": "code",
   "execution_count": 28,
   "metadata": {},
   "outputs": [],
   "source": [
    "from sbb import SBB\n",
    "from heapq import heappush, heappop\n",
    "from search_solution import *\n"
   ]
  },
  {
   "cell_type": "code",
   "execution_count": 29,
   "metadata": {},
   "outputs": [],
   "source": [
    "import os\n",
    "\n",
    "# just necessary for vscode to be able to debug... \n",
    "os.chdir('/Users/jabbathegut/PipenvPythonProjects/AISO/07_HeuristicAndLocalSearchAlgorithms')"
   ]
  },
  {
   "cell_type": "code",
   "execution_count": 30,
   "metadata": {},
   "outputs": [],
   "source": [
    "def a_star_algorithm(problem, sbb):\n",
    "    # define empty frontier\n",
    "    frontier = []\n",
    "    # keep track of visited states\n",
    "    visited = []\n",
    "    # add initial node to frontier with piority 0\n",
    "    node = Node(problem.initial)\n",
    "    heappush(frontier, (0, node))\n",
    "    \n",
    "    if problem.goal_test(node.state):\n",
    "        return node\n",
    "    \n",
    "    while True:\n",
    "        node = heappop(frontier)[1]\n",
    "        \n",
    "        for action in problem.actions(node.state):\n",
    "            child_node = node.child_node(problem, action)\n",
    "            heuristics = (sbb.get_distance_between(child_node.state, problem.goal)) + child_node.path_cost\n",
    "            \n",
    "            if problem.goal_test(child_node.state):\n",
    "                print('Reached goal destination: ' + child_node.state)\n",
    "                print('Nodes visited: ' + str(len(visited)))\n",
    "                print('Max nodes stored: ' + str(len(visited)) + str(len(frontier)))\n",
    "                return child_node\n",
    "            if not child_node.state in visited:\n",
    "                heappush(frontier, (heuristics, child_node))\n",
    "                visited.append(child_node.state)"
   ]
  },
  {
   "cell_type": "code",
   "execution_count": 31,
   "metadata": {},
   "outputs": [],
   "source": [
    "def ida_star_algorithm(problem, sbb):\n",
    "    boundary = get_heuristic(Node(problem.initial), problem, sbb)\n",
    "    \n",
    "    return search(problem, sbb, boundary)\n",
    "    \n",
    "\n",
    "def search(problem, sbb, boundary):\n",
    "    # define empty frontier\n",
    "    frontier = []\n",
    "    # keep track of visited states\n",
    "    visited = []\n",
    "    # add initial node to frontier with piority 0\n",
    "    node = Node(problem.initial)\n",
    "    heappush(frontier, (0, node))\n",
    "    \n",
    "    if problem.goal_test(node.state):\n",
    "        return node\n",
    "    \n",
    "    # check if first node is in range of the cost boundary \n",
    "    heuristics = get_heuristic(node, problem, sbb)\n",
    "    \n",
    "    # check costs\n",
    "    while boundary >=  heuristics:\n",
    "        # get all child nodes, calculate costs\n",
    "        for action in problem.actions(node.state):\n",
    "            child_node = node.child_node(problem, action)\n",
    "            heuristics = get_heuristic(child_node, problem, sbb)\n",
    "            \n",
    "            if problem.goal_test(child_node.state):\n",
    "                print('Reached goal destination: ' + child_node.state)\n",
    "                print('Nodes visited: ' + str(len(visited)))\n",
    "                print('Max nodes stored: ' + str(len(visited)) + str(len(frontier)))\n",
    "                return child_node\n",
    "            if not child_node.state in visited:\n",
    "                heappush(frontier, (heuristics, child_node))\n",
    "                visited.append(child_node.state)\n",
    "                \n",
    "        # get node with lowest cost and calculate new costs\n",
    "        node = heappop(frontier)[1]\n",
    "        heuristics = get_heuristic(node, problem, sbb)\n",
    "    \n",
    "    # this is returned when search is cancelled, heuristics is the new cost boundary for next iteration\n",
    "    return search(problem, sbb, heuristics)\n",
    "\n",
    "def get_heuristic(node, problem, sbb):\n",
    "    return sbb.get_distance_between(node.state, problem.goal) + node.path_cost"
   ]
  },
  {
   "cell_type": "code",
   "execution_count": 32,
   "metadata": {},
   "outputs": [],
   "source": [
    "def print_info_about_search(goal_node):\n",
    "    node = goal_node\n",
    "    if node:\n",
    "        print(\"The search algorithm reached \" + node.state + \" with a cost of \" + str(node.path_cost) + \".\")\n",
    "        path = node.path()\n",
    "        directions = \"\"\n",
    "        for n in path:\n",
    "            directions = directions + \" > \" + n.state\n",
    "        print(\"The path is the following:\" + directions)\n"
   ]
  },
  {
   "cell_type": "code",
   "execution_count": 33,
   "metadata": {},
   "outputs": [
    {
     "name": "stdout",
     "output_type": "stream",
     "text": [
      "successfully imported 2787 hubs\n",
      "successfully imported 401 train lines\n"
     ]
    }
   ],
   "source": [
    "sbb = SBB()\n",
    "sbb.importData('linie-mit-betriebspunkten.json')\n",
    "\n",
    "start = 'Hitzkirch'\n",
    "goal = 'Bellinzona'\n",
    "sbb_map = UndirectedGraph(sbb.createMap())\n",
    "problem = GraphProblem(start, goal, sbb_map)"
   ]
  },
  {
   "cell_type": "code",
   "execution_count": 34,
   "metadata": {},
   "outputs": [
    {
     "name": "stdout",
     "output_type": "stream",
     "text": [
      "Reached goal destination: Bellinzona\n",
      "Nodes visited: 425\n",
      "Max nodes stored: 42524\n"
     ]
    }
   ],
   "source": [
    "a_star_solution = a_star_algorithm(problem, sbb)"
   ]
  },
  {
   "cell_type": "code",
   "execution_count": 35,
   "metadata": {},
   "outputs": [
    {
     "name": "stdout",
     "output_type": "stream",
     "text": [
      "The search algorithm reached Bellinzona with a cost of 190.543.\n",
      "The path is the following: > Hitzkirch > Gelfingen > Baldegg > Baldegg_Kloster > Hochdorf > Hochdorf_Schonau > Ballwil > Eschenbach > Waldibrucke > Hubeli_LU > Emmenbrucke_Gersag > Emmenbrucke > Fluhmuhle_Abzw > Gutsch_Abzw > Luzern_Verkehrshaus > Meggen_Zentrum > Meggen > Merlischachen > Kussnacht_am_Rigi > Immensee_West_Abzw > Immensee > Brunnmatt_Spw > Arth-Goldau > Arth-Goldau_Ost_Abzw > Steinen > Schwyz > Brunnen > Brunnen_Sud_Abzw > Sisikon_Nord > Sisikon > Gruonbach_Spw > Fluelen > Altdorf > Rynacht_Nord > Rynacht_Abzw > Erstfeld_Nord_Abzw > Erstfeld > Amsteg-Silenen > Zgraggen_Spw > Gurtnellen > Pfaffensprung_Spw > Wassen > Eggwald_Spw > Goschenen > Gotthard_Nord_Spw > Gottardo_Sud_c_bin > Airolo > Sordo_c_bin > Ambri-Piotta > Rodi-Fiesso > Pardorea_c_bin > Faido > Chiggiogna_c_bin > Lavorgo > Pianotondo_c_bin > Giornico_c_bin > Giornico > Bodio_TI > Pollegio_Nord_dira > Biasca > Giustizia_dira > Osogna-Cresciano > Claro > Castione_Nord_c_bin > Castione-Arbedo > Bellinzona_S._Paolo > Bellinzona\n"
     ]
    }
   ],
   "source": [
    "print_info_about_search(a_star_solution)"
   ]
  },
  {
   "cell_type": "code",
   "execution_count": 36,
   "metadata": {},
   "outputs": [
    {
     "name": "stdout",
     "output_type": "stream",
     "text": [
      "Reached goal destination: Bellinzona\n",
      "Nodes visited: 425\n",
      "Max nodes stored: 42524\n"
     ]
    }
   ],
   "source": [
    "ida_star_solution = ida_star_algorithm(problem, sbb)"
   ]
  },
  {
   "cell_type": "code",
   "execution_count": 37,
   "metadata": {},
   "outputs": [
    {
     "name": "stdout",
     "output_type": "stream",
     "text": [
      "The search algorithm reached Bellinzona with a cost of 190.543.\n",
      "The path is the following: > Hitzkirch > Gelfingen > Baldegg > Baldegg_Kloster > Hochdorf > Hochdorf_Schonau > Ballwil > Eschenbach > Waldibrucke > Hubeli_LU > Emmenbrucke_Gersag > Emmenbrucke > Fluhmuhle_Abzw > Gutsch_Abzw > Luzern_Verkehrshaus > Meggen_Zentrum > Meggen > Merlischachen > Kussnacht_am_Rigi > Immensee_West_Abzw > Immensee > Brunnmatt_Spw > Arth-Goldau > Arth-Goldau_Ost_Abzw > Steinen > Schwyz > Brunnen > Brunnen_Sud_Abzw > Sisikon_Nord > Sisikon > Gruonbach_Spw > Fluelen > Altdorf > Rynacht_Nord > Rynacht_Abzw > Erstfeld_Nord_Abzw > Erstfeld > Amsteg-Silenen > Zgraggen_Spw > Gurtnellen > Pfaffensprung_Spw > Wassen > Eggwald_Spw > Goschenen > Gotthard_Nord_Spw > Gottardo_Sud_c_bin > Airolo > Sordo_c_bin > Ambri-Piotta > Rodi-Fiesso > Pardorea_c_bin > Faido > Chiggiogna_c_bin > Lavorgo > Pianotondo_c_bin > Giornico_c_bin > Giornico > Bodio_TI > Pollegio_Nord_dira > Biasca > Giustizia_dira > Osogna-Cresciano > Claro > Castione_Nord_c_bin > Castione-Arbedo > Bellinzona_S._Paolo > Bellinzona\n"
     ]
    }
   ],
   "source": [
    "print_info_about_search(ida_star_solution)"
   ]
  },
  {
   "cell_type": "markdown",
   "metadata": {},
   "source": [
    "Hints: you can use the heap library heapq for your frontier:\n",
    "\n",
    "`from heapq import heappush, heappop`\n",
    "\n",
    "The following line will add the node `f` to the frontier with priority `f`:\n",
    "\n",
    "`heappush(frontier, (f, node))`\n",
    "\n",
    "To get the first node, use: `node = heappop(frontier)[1]`\n",
    "\n",
    "The aerial distance between a node and the goal can be computed with the following function:\n",
    "\n",
    "`sbb.get_distance_between(node.state, problem.goal)`\n",
    "        "
   ]
  },
  {
   "cell_type": "markdown",
   "metadata": {},
   "source": [
    "How do theses informed search algorithms perform on our problem? Create the following overview table for the example problem.\n",
    "\n",
    "\n",
    "| Algorithm | start   | goal | cost | number of nodes visited | maximal stored nodes | complete | optimal |\n",
    "|------|------|-----|-----|-----|-----|-----|-----|\n",
    "| A*|Hitzkirch|Bellinzona|190.543|425|42524|yes|no\n",
    "| IDA*|Hitzkirch|Bellinzona|190.543|425|42524|yes|yes\n"
   ]
  },
  {
   "cell_type": "code",
   "execution_count": null,
   "metadata": {},
   "outputs": [],
   "source": []
  }
 ],
 "metadata": {
  "kernelspec": {
   "display_name": "Python 3",
   "language": "python",
   "name": "python3"
  },
  "language_info": {
   "codemirror_mode": {
    "name": "ipython",
    "version": 3
   },
   "file_extension": ".py",
   "mimetype": "text/x-python",
   "name": "python",
   "nbconvert_exporter": "python",
   "pygments_lexer": "ipython3",
   "version": "3.8.1"
  }
 },
 "nbformat": 4,
 "nbformat_minor": 2
}
