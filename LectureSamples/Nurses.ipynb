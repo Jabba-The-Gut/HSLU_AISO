{
 "cells": [
  {
   "cell_type": "markdown",
   "metadata": {},
   "source": [
    "# Nurse Scheduling Problem"
   ]
  },
  {
   "cell_type": "markdown",
   "metadata": {},
   "source": [
    "Lucerne University of Applied Sciences and Arts - School of Information Technology\n",
    "\n",
    "A hospital supervisor needs to create a weekly schedule for 4 nurses:\n",
    "* Each day is divided into three 8-hour shifts\n",
    "* A nurse must not work two shifts on the same day\n",
    "* Each nurse works five or six days a week\n",
    "* No shift is staffed by more than two different nurses in a week\n",
    "* If a nurse works shifts 2 or 3 on a given day, (s)he must also work the same shift either the previous day or the following day (does not apply to holidays)\n",
    "\n",
    "\n",
    "@author: Marc Pouly and Tobias Mérinat"
   ]
  },
  {
   "cell_type": "code",
   "execution_count": 1,
   "metadata": {
    "lines_to_next_cell": 1
   },
   "outputs": [],
   "source": [
    "from ortools.sat.python import cp_model"
   ]
  },
  {
   "cell_type": "markdown",
   "metadata": {},
   "source": [
    "Nurse Schedule Problem from lecture"
   ]
  },
  {
   "cell_type": "code",
   "execution_count": 2,
   "metadata": {},
   "outputs": [],
   "source": [
    "# 4 nurses\n",
    "num_nurses = 4\n",
    "# 7 days a week\n",
    "num_days = 7\n",
    "# 4 shifts (holiday_shift = 0, day_shift = 1, late_shift = 2, night_shift = 3)\n",
    "num_shifts = 4"
   ]
  },
  {
   "cell_type": "markdown",
   "metadata": {},
   "source": [
    "Create constraint solver"
   ]
  },
  {
   "cell_type": "code",
   "execution_count": 3,
   "metadata": {},
   "outputs": [],
   "source": [
    "model = cp_model.CpModel()"
   ]
  },
  {
   "cell_type": "code",
   "execution_count": 4,
   "metadata": {},
   "outputs": [
    {
     "name": "stdout",
     "output_type": "stream",
     "text": [
      "Shifts = 4, Days = 7, Nurses = 4\n",
      "[[[(0,0,0)(0..1), (1,0,0)(0..1), (2,0,0)(0..1), (3,0,0)(0..1)], [(0,1,0)(0..1), (1,1,0)(0..1), (2,1,0)(0..1), (3,1,0)(0..1)], [(0,2,0)(0..1), (1,2,0)(0..1), (2,2,0)(0..1), (3,2,0)(0..1)], [(0,3,0)(0..1), (1,3,0)(0..1), (2,3,0)(0..1), (3,3,0)(0..1)], [(0,4,0)(0..1), (1,4,0)(0..1), (2,4,0)(0..1), (3,4,0)(0..1)], [(0,5,0)(0..1), (1,5,0)(0..1), (2,5,0)(0..1), (3,5,0)(0..1)], [(0,6,0)(0..1), (1,6,0)(0..1), (2,6,0)(0..1), (3,6,0)(0..1)]], [[(0,0,1)(0..1), (1,0,1)(0..1), (2,0,1)(0..1), (3,0,1)(0..1)], [(0,1,1)(0..1), (1,1,1)(0..1), (2,1,1)(0..1), (3,1,1)(0..1)], [(0,2,1)(0..1), (1,2,1)(0..1), (2,2,1)(0..1), (3,2,1)(0..1)], [(0,3,1)(0..1), (1,3,1)(0..1), (2,3,1)(0..1), (3,3,1)(0..1)], [(0,4,1)(0..1), (1,4,1)(0..1), (2,4,1)(0..1), (3,4,1)(0..1)], [(0,5,1)(0..1), (1,5,1)(0..1), (2,5,1)(0..1), (3,5,1)(0..1)], [(0,6,1)(0..1), (1,6,1)(0..1), (2,6,1)(0..1), (3,6,1)(0..1)]], [[(0,0,2)(0..1), (1,0,2)(0..1), (2,0,2)(0..1), (3,0,2)(0..1)], [(0,1,2)(0..1), (1,1,2)(0..1), (2,1,2)(0..1), (3,1,2)(0..1)], [(0,2,2)(0..1), (1,2,2)(0..1), (2,2,2)(0..1), (3,2,2)(0..1)], [(0,3,2)(0..1), (1,3,2)(0..1), (2,3,2)(0..1), (3,3,2)(0..1)], [(0,4,2)(0..1), (1,4,2)(0..1), (2,4,2)(0..1), (3,4,2)(0..1)], [(0,5,2)(0..1), (1,5,2)(0..1), (2,5,2)(0..1), (3,5,2)(0..1)], [(0,6,2)(0..1), (1,6,2)(0..1), (2,6,2)(0..1), (3,6,2)(0..1)]], [[(0,0,3)(0..1), (1,0,3)(0..1), (2,0,3)(0..1), (3,0,3)(0..1)], [(0,1,3)(0..1), (1,1,3)(0..1), (2,1,3)(0..1), (3,1,3)(0..1)], [(0,2,3)(0..1), (1,2,3)(0..1), (2,2,3)(0..1), (3,2,3)(0..1)], [(0,3,3)(0..1), (1,3,3)(0..1), (2,3,3)(0..1), (3,3,3)(0..1)], [(0,4,3)(0..1), (1,4,3)(0..1), (2,4,3)(0..1), (3,4,3)(0..1)], [(0,5,3)(0..1), (1,5,3)(0..1), (2,5,3)(0..1), (3,5,3)(0..1)], [(0,6,3)(0..1), (1,6,3)(0..1), (2,6,3)(0..1), (3,6,3)(0..1)]]]\n"
     ]
    }
   ],
   "source": [
    "# Matrix of Boolean decision variables: NURSES x DAYS x SHIFTS\n",
    "# schedule[s][d][n] = 1 means nurse n works on day d in shift s \n",
    "\n",
    "schedule = [[[model.NewBoolVar(f\"({_n},{_d},{_s})\") \n",
    "              for _n in range(num_nurses)] \n",
    "              for _d in range(num_days)] \n",
    "              for _s in range(num_shifts)]\n",
    "\n",
    "print(f\"Shifts = {len(schedule)}, Days = {len(schedule[0])}, Nurses = {len(schedule[0][0])}\")\n",
    "print(schedule)"
   ]
  },
  {
   "cell_type": "code",
   "execution_count": 5,
   "metadata": {},
   "outputs": [],
   "source": [
    "# Every shift must have exactly one nurse assigned on each day\n",
    "\n",
    "for s in range(num_shifts):\n",
    "    for d in range(num_days):\n",
    "        # Day and shift being fixed, the number of nurses must be exactly 1\n",
    "        model.Add(sum([schedule[s][d][n] for n in range(num_nurses)]) == 1)"
   ]
  },
  {
   "cell_type": "code",
   "execution_count": 6,
   "metadata": {},
   "outputs": [],
   "source": [
    "# A nurse must not work two shifts on the same day\n",
    "\n",
    "for n in range(num_nurses):\n",
    "    for d in range(num_days):\n",
    "        # Nurse and day being fixed, the number of shifts can be at most 1\n",
    "        model.Add(sum([schedule[s][d][n] for s in range(num_shifts)]) < 2)"
   ]
  },
  {
   "cell_type": "code",
   "execution_count": 7,
   "metadata": {},
   "outputs": [],
   "source": [
    "# Each nurse has one or two days off\n",
    "\n",
    "for n in range(num_nurses):\n",
    "    # Nurse and shift = 0 (holidays) being fixed, the number of days is either 1 or 2\n",
    "    num_days_off = sum([schedule[0][d][n] for d in range(num_days)])\n",
    "    model.Add(num_days_off > 0)\n",
    "    model.Add(num_days_off < 3)"
   ]
  },
  {
   "cell_type": "code",
   "execution_count": 8,
   "metadata": {},
   "outputs": [],
   "source": [
    "# Each shift except shift 0 is staffed by at most two nurses per week\n",
    "\n",
    "for s in range(1, num_shifts):\n",
    "    # Shift being fixed, memorize whether a nurse works in this shift\n",
    "    does_work = [model.NewBoolVar('') for _n in range(num_nurses)]\n",
    "    # make sure does_work respects given rules:\n",
    "    for n in range(num_nurses):\n",
    "        # Count the number of days the current nurse works in the current shift\n",
    "        var = sum([schedule[s][d][n] for d in range(num_days)])\n",
    "        # If nurse works in current shift, set variable to true\n",
    "        model.Add(var > 0).OnlyEnforceIf(does_work[n])\n",
    "        # If nurse does not work in current shift, set variable to false\n",
    "        model.Add(var == 0).OnlyEnforceIf(does_work[n].Not())    \n",
    "    # The number of nurses who work in current shift must be 2\n",
    "    model.Add(sum(does_work) <= 2)     "
   ]
  },
  {
   "cell_type": "code",
   "execution_count": 9,
   "metadata": {},
   "outputs": [],
   "source": [
    "# For shift 2 and 3\n",
    "for s in [2,3]:\n",
    "    for n in range(num_nurses):\n",
    "        for d in range(num_days):\n",
    "            # Does current nurse work either the day before or after?\n",
    "            before_or_after = model.NewBoolVar('')\n",
    "            model.AddMaxEquality(before_or_after, [schedule[s][(d-1) % num_days][n], schedule[s][(d+1) % num_days][n]])\n",
    "            # When current nurse works on current day, (s)he must work either day before or after\n",
    "            model.Add(before_or_after == 1).OnlyEnforceIf(schedule[s][d][n])"
   ]
  },
  {
   "cell_type": "code",
   "execution_count": 10,
   "metadata": {},
   "outputs": [],
   "source": [
    "nurses_with_more_than_1d_off = [model.NewBoolVar(str(c)) for c in range(num_nurses)]\n",
    "\n",
    "# Count how many days off a nurse has\n",
    "for n in range(num_nurses):\n",
    "    num_days_off = sum([schedule[0][d][n] for d in range(num_days)])\n",
    "    # When count > 1 the nurse has two days off\n",
    "    model.Add(num_days_off == 2).OnlyEnforceIf(nurses_with_more_than_1d_off[n])\n",
    "    # When count == 1 the nurse has only one day off\n",
    "    model.Add(num_days_off == 1).OnlyEnforceIf(nurses_with_more_than_1d_off[n].Not())\n",
    "\n",
    "model.Maximize(sum(nurses_with_more_than_1d_off))\n"
   ]
  },
  {
   "cell_type": "code",
   "execution_count": 11,
   "metadata": {},
   "outputs": [],
   "source": [
    "class MaxNSolutionPrinter(cp_model.CpSolverSolutionCallback):\n",
    "        \n",
    "    def __init__(self, nb_sol, variables):\n",
    "        cp_model.CpSolverSolutionCallback.__init__(self)\n",
    "        self.__variables = variables\n",
    "        self.__nb_sol = nb_sol\n",
    "        self.__counter = 0\n",
    "        \n",
    "    def on_solution_callback(self):\n",
    "        self.__counter += 1\n",
    "        if self.__counter <= self.__nb_sol:\n",
    "            self.pretty_print(self.__variables)\n",
    "            \n",
    "    def solution_count(self):\n",
    "        return self.__counter\n",
    "            \n",
    "    def pretty_print(self, schedule):\n",
    "        mapper1 = {0: 'A', 1: 'B', 2: 'C', 3: 'D'}\n",
    "        mapper2 = {0: 'H  |', 1: 'S1 |', 2: 'S2 |', 3: 'S3 |'}\n",
    "        print(\"SHIFT | M T W T F S S\")\n",
    "        print(\"---------------------\")\n",
    "        for s in range(num_shifts):\n",
    "            print(f\"   {mapper2[s]} \", end = '')\n",
    "            for d in range(num_days):\n",
    "                for n in range(num_nurses):\n",
    "                    if self.Value(schedule[s][d][n]) == 1:\n",
    "                        print(f\"{mapper1[n]} \", end = '')\n",
    "            print(\"\")\n",
    "        print(\"\\n\")  "
   ]
  },
  {
   "cell_type": "code",
   "execution_count": 12,
   "metadata": {
    "scrolled": false
   },
   "outputs": [
    {
     "ename": "TypeError",
     "evalue": "Search for all solutions is only defined on satisfiability problems",
     "output_type": "error",
     "traceback": [
      "\u001b[0;31m---------------------------------------------------------------------------\u001b[0m",
      "\u001b[0;31mTypeError\u001b[0m                                 Traceback (most recent call last)",
      "\u001b[0;32m<ipython-input-12-36bc34da64d3>\u001b[0m in \u001b[0;36m<module>\u001b[0;34m\u001b[0m\n\u001b[1;32m      1\u001b[0m \u001b[0msolver\u001b[0m \u001b[0;34m=\u001b[0m \u001b[0mcp_model\u001b[0m\u001b[0;34m.\u001b[0m\u001b[0mCpSolver\u001b[0m\u001b[0;34m(\u001b[0m\u001b[0;34m)\u001b[0m\u001b[0;34m\u001b[0m\u001b[0;34m\u001b[0m\u001b[0m\n\u001b[1;32m      2\u001b[0m \u001b[0mcallback\u001b[0m \u001b[0;34m=\u001b[0m \u001b[0mMaxNSolutionPrinter\u001b[0m\u001b[0;34m(\u001b[0m\u001b[0;36m1\u001b[0m\u001b[0;34m,\u001b[0m \u001b[0mschedule\u001b[0m\u001b[0;34m)\u001b[0m\u001b[0;34m\u001b[0m\u001b[0;34m\u001b[0m\u001b[0m\n\u001b[0;32m----> 3\u001b[0;31m \u001b[0mstatus\u001b[0m \u001b[0;34m=\u001b[0m \u001b[0msolver\u001b[0m\u001b[0;34m.\u001b[0m\u001b[0mSearchForAllSolutions\u001b[0m\u001b[0;34m(\u001b[0m\u001b[0mmodel\u001b[0m\u001b[0;34m,\u001b[0m \u001b[0mcallback\u001b[0m\u001b[0;34m)\u001b[0m\u001b[0;34m\u001b[0m\u001b[0;34m\u001b[0m\u001b[0m\n\u001b[0m\u001b[1;32m      4\u001b[0m \u001b[0;34m\u001b[0m\u001b[0m\n\u001b[1;32m      5\u001b[0m \u001b[0mprint\u001b[0m\u001b[0;34m(\u001b[0m\u001b[0;34m\"Statistics\"\u001b[0m\u001b[0;34m)\u001b[0m\u001b[0;34m\u001b[0m\u001b[0;34m\u001b[0m\u001b[0m\n",
      "\u001b[0;32m~/.local/share/virtualenvs/AISO-NIF0zkfA/lib/python3.8/site-packages/ortools/sat/python/cp_model.py\u001b[0m in \u001b[0;36mSearchForAllSolutions\u001b[0;34m(self, model, callback)\u001b[0m\n\u001b[1;32m   1617\u001b[0m     \"\"\"\n\u001b[1;32m   1618\u001b[0m         \u001b[0;32mif\u001b[0m \u001b[0mmodel\u001b[0m\u001b[0;34m.\u001b[0m\u001b[0mHasObjective\u001b[0m\u001b[0;34m(\u001b[0m\u001b[0;34m)\u001b[0m\u001b[0;34m:\u001b[0m\u001b[0;34m\u001b[0m\u001b[0;34m\u001b[0m\u001b[0m\n\u001b[0;32m-> 1619\u001b[0;31m             raise TypeError('Search for all solutions is only defined on '\n\u001b[0m\u001b[1;32m   1620\u001b[0m                             'satisfiability problems')\n\u001b[1;32m   1621\u001b[0m         \u001b[0;31m# Store old values.\u001b[0m\u001b[0;34m\u001b[0m\u001b[0;34m\u001b[0m\u001b[0;34m\u001b[0m\u001b[0m\n",
      "\u001b[0;31mTypeError\u001b[0m: Search for all solutions is only defined on satisfiability problems"
     ]
    }
   ],
   "source": [
    "solver = cp_model.CpSolver()\n",
    "callback = MaxNSolutionPrinter(1, schedule)\n",
    "status = solver.SearchForAllSolutions(model, callback)\n",
    "\n",
    "print(\"Statistics\")\n",
    "print(f\" - Conflicts: \\t{solver.NumConflicts()}\")\n",
    "print(f\" - Branches: \\t{solver.NumBranches()}\")\n",
    "print(f\" - Walltime: \\t{solver.WallTime():.2f}s\")\n",
    "print(f\" - Solutions: \\t{callback.solution_count()}\")"
   ]
  },
  {
   "cell_type": "code",
   "execution_count": null,
   "metadata": {},
   "outputs": [],
   "source": []
  },
  {
   "cell_type": "code",
   "execution_count": null,
   "metadata": {},
   "outputs": [],
   "source": []
  }
 ],
 "metadata": {
  "jupytext": {
   "cell_metadata_filter": "-all",
   "main_language": "python",
   "notebook_metadata_filter": "-all",
   "text_representation": {
    "extension": ".py",
    "format_name": "percent"
   }
  },
  "kernelspec": {
   "display_name": "Python 3",
   "language": "python",
   "name": "python3"
  },
  "language_info": {
   "codemirror_mode": {
    "name": "ipython",
    "version": 3
   },
   "file_extension": ".py",
   "mimetype": "text/x-python",
   "name": "python",
   "nbconvert_exporter": "python",
   "pygments_lexer": "ipython3",
   "version": "3.8.1"
  }
 },
 "nbformat": 4,
 "nbformat_minor": 2
}
