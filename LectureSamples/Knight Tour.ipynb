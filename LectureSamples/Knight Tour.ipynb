{
 "cells": [
  {
   "cell_type": "markdown",
   "metadata": {
    "colab_type": "text",
    "id": "X7cjx5srXF9R"
   },
   "source": [
    "# Knight Tour Example"
   ]
  },
  {
   "cell_type": "markdown",
   "metadata": {
    "colab_type": "text",
    "id": "GzzNyXz3k-GH"
   },
   "source": [
    "Lucerne University of Applied Sciences and Arts - School of Information Technology\n",
    "\n",
    "A knight's tour is a sequence of moves of a knight on a chessboard such that the knight visits every cell exactly once. Here we explicitly ask for a closed tour, i.e. the knight must be able to jump from the final position back to the original position.\n",
    "\n",
    "@author: Tobias Mérinat\n",
    "@author: Marc Pouly\n",
    "@author: Reza Kakooee"
   ]
  },
  {
   "cell_type": "markdown",
   "metadata": {
    "colab_type": "text",
    "id": "-lvYOCTck9t_"
   },
   "source": [
    "![title](chess.png)"
   ]
  },
  {
   "cell_type": "code",
   "execution_count": 5,
   "metadata": {
    "colab": {},
    "colab_type": "code",
    "id": "GERz6JHoXF9X"
   },
   "outputs": [],
   "source": [
    "import math\n",
    "import time\n",
    "import numpy as np\n",
    "\n",
    "from itertools import product\n",
    "from ortools.sat.python import cp_model\n",
    "\n",
    "from IPython import display\n",
    "import matplotlib.pyplot as plt\n",
    "import matplotlib.patches as patches\n",
    "\n",
    "%matplotlib inline"
   ]
  },
  {
   "cell_type": "code",
   "execution_count": 19,
   "metadata": {
    "colab": {},
    "colab_type": "code",
    "id": "iZKnmzvSYmEg"
   },
   "outputs": [
    {
     "name": "stdout",
     "output_type": "stream",
     "text": [
      "36\n"
     ]
    }
   ],
   "source": [
    "# We only consider square chess boards\n",
    "size = 6\n",
    "\n",
    "if size % 2 != 0:\n",
    "    print('Knight tours only exist for even board dimensions.')\n",
    "\n",
    "# Number of cells on chess board\n",
    "bsize = size * size\n",
    "print(bsize)"
   ]
  },
  {
   "cell_type": "markdown",
   "metadata": {},
   "source": [
    "## Auxiliary Methods"
   ]
  },
  {
   "cell_type": "code",
   "execution_count": 7,
   "metadata": {
    "colab": {},
    "colab_type": "code",
    "id": "u26H_yn6Yr6b"
   },
   "outputs": [
    {
     "name": "stdout",
     "output_type": "stream",
     "text": [
      "Coordinate of cell number 20 is (2, 3)\n"
     ]
    }
   ],
   "source": [
    "# Chess board cell number -> coordinates\n",
    "def p2c(position):\n",
    "    return position % size, int(position / size)\n",
    "\n",
    "print('Coordinate of cell number 20 is', p2c(20))"
   ]
  },
  {
   "cell_type": "code",
   "execution_count": 8,
   "metadata": {
    "colab": {},
    "colab_type": "code",
    "id": "T4JpW5ZF8p-L"
   },
   "outputs": [
    {
     "name": "stdout",
     "output_type": "stream",
     "text": [
      "Cell number of coordinate (3, 2) is 15\n"
     ]
    }
   ],
   "source": [
    "# Coordinates -> chess board cell number\n",
    "def c2p(x,y):\n",
    "    return y*size+x\n",
    "\n",
    "print('Cell number of coordinate (3, 2) is', c2p(3,2))"
   ]
  },
  {
   "cell_type": "code",
   "execution_count": 9,
   "metadata": {
    "colab": {
     "base_uri": "https://localhost:8080/",
     "height": 51
    },
    "colab_type": "code",
    "executionInfo": {
     "elapsed": 1614,
     "status": "ok",
     "timestamp": 1585455982405,
     "user": {
      "displayName": "Reza Kakooee",
      "photoUrl": "https://lh3.googleusercontent.com/a-/AOh14Gi1zpyCKvsfdcje0ppT-gCN8jSlepkIsrg6lxm-=s64",
      "userId": "16168100037659286234"
     },
     "user_tz": -120
    },
    "id": "7je6an6UXF9d",
    "outputId": "f0ce9b7d-e1b4-4be8-8b4b-eb29bc7eac14"
   },
   "outputs": [
    {
     "name": "stdout",
     "output_type": "stream",
     "text": [
      "0 0\n",
      "[(-1, -2), (-1, 2), (1, -2), (1, 2), (-2, -1), (-2, 1), (2, -1), (2, 1)]\n",
      "From  0 you may want to jump to: {8, 13}\n",
      "5 2\n",
      "[(4, 0), (4, 4), (6, 0), (6, 4), (3, 1), (3, 3), (7, 1), (7, 3)]\n",
      "From 17 you may want to jump to: {9, 28, 4, 21}\n"
     ]
    }
   ],
   "source": [
    "# Chess rules, where the knight is allowed to jump from a given cell number\n",
    "def knight_moves(position):\n",
    "    # Convert position into coordinates (x,y)\n",
    "    x, y = p2c(position)\n",
    "    print(x,y)\n",
    "    # Generate all possible moves\n",
    "    moves = list(product((x-1, x+1), (y-2, y+2))) + list(product((x-2, x+2),(y-1, y+1)))  # all moves\n",
    "    print(moves)\n",
    "    # Filter moves that would leave the board\n",
    "    onboard = (c2p(x,y) for x, y in moves if 0 <= x < size and 0 <= y < size)\n",
    "    return set(sorted(onboard))\n",
    "\n",
    "# For visual testing\n",
    "print('From  0 you may want to jump to:', knight_moves(0))\n",
    "print('From 17 you may want to jump to:', knight_moves(17))\n",
    "# print('From  0 it is forbidden to jump to:', set(range(64)) - knight_moves(0))"
   ]
  },
  {
   "cell_type": "markdown",
   "metadata": {
    "colab_type": "text",
    "id": "RWdblFwmVbHF"
   },
   "source": [
    "## Constraint Model"
   ]
  },
  {
   "cell_type": "code",
   "execution_count": 10,
   "metadata": {
    "colab": {},
    "colab_type": "code",
    "id": "BKcHy83SXF9j"
   },
   "outputs": [],
   "source": [
    "model = cp_model.CpModel()\n",
    "\n",
    "# board[i,j] = True means that Knight jumps from i to j\n",
    "# board is an size * size array of Boolean decision variables\n",
    "board = [[model.NewBoolVar(f\"({i},{j})\") for j in range(bsize)] for i in range(bsize)]"
   ]
  },
  {
   "cell_type": "code",
   "execution_count": 18,
   "metadata": {
    "colab": {},
    "colab_type": "code",
    "id": "HdcpxzNtXF9s"
   },
   "outputs": [
    {
     "name": "stdout",
     "output_type": "stream",
     "text": [
      "0 0\n",
      "[(-1, -2), (-1, 2), (1, -2), (1, 2), (-2, -1), (-2, 1), (2, -1), (2, 1)]\n",
      "1 0\n",
      "[(0, -2), (0, 2), (2, -2), (2, 2), (-1, -1), (-1, 1), (3, -1), (3, 1)]\n",
      "2 0\n",
      "[(1, -2), (1, 2), (3, -2), (3, 2), (0, -1), (0, 1), (4, -1), (4, 1)]\n",
      "3 0\n",
      "[(2, -2), (2, 2), (4, -2), (4, 2), (1, -1), (1, 1), (5, -1), (5, 1)]\n",
      "4 0\n",
      "[(3, -2), (3, 2), (5, -2), (5, 2), (2, -1), (2, 1), (6, -1), (6, 1)]\n",
      "5 0\n",
      "[(4, -2), (4, 2), (6, -2), (6, 2), (3, -1), (3, 1), (7, -1), (7, 1)]\n",
      "0 1\n",
      "[(-1, -1), (-1, 3), (1, -1), (1, 3), (-2, 0), (-2, 2), (2, 0), (2, 2)]\n",
      "1 1\n",
      "[(0, -1), (0, 3), (2, -1), (2, 3), (-1, 0), (-1, 2), (3, 0), (3, 2)]\n",
      "2 1\n",
      "[(1, -1), (1, 3), (3, -1), (3, 3), (0, 0), (0, 2), (4, 0), (4, 2)]\n",
      "3 1\n",
      "[(2, -1), (2, 3), (4, -1), (4, 3), (1, 0), (1, 2), (5, 0), (5, 2)]\n",
      "4 1\n",
      "[(3, -1), (3, 3), (5, -1), (5, 3), (2, 0), (2, 2), (6, 0), (6, 2)]\n",
      "5 1\n",
      "[(4, -1), (4, 3), (6, -1), (6, 3), (3, 0), (3, 2), (7, 0), (7, 2)]\n",
      "0 2\n",
      "[(-1, 0), (-1, 4), (1, 0), (1, 4), (-2, 1), (-2, 3), (2, 1), (2, 3)]\n",
      "1 2\n",
      "[(0, 0), (0, 4), (2, 0), (2, 4), (-1, 1), (-1, 3), (3, 1), (3, 3)]\n",
      "2 2\n",
      "[(1, 0), (1, 4), (3, 0), (3, 4), (0, 1), (0, 3), (4, 1), (4, 3)]\n",
      "3 2\n",
      "[(2, 0), (2, 4), (4, 0), (4, 4), (1, 1), (1, 3), (5, 1), (5, 3)]\n",
      "4 2\n",
      "[(3, 0), (3, 4), (5, 0), (5, 4), (2, 1), (2, 3), (6, 1), (6, 3)]\n",
      "5 2\n",
      "[(4, 0), (4, 4), (6, 0), (6, 4), (3, 1), (3, 3), (7, 1), (7, 3)]\n",
      "0 3\n",
      "[(-1, 1), (-1, 5), (1, 1), (1, 5), (-2, 2), (-2, 4), (2, 2), (2, 4)]\n",
      "1 3\n",
      "[(0, 1), (0, 5), (2, 1), (2, 5), (-1, 2), (-1, 4), (3, 2), (3, 4)]\n",
      "2 3\n",
      "[(1, 1), (1, 5), (3, 1), (3, 5), (0, 2), (0, 4), (4, 2), (4, 4)]\n",
      "3 3\n",
      "[(2, 1), (2, 5), (4, 1), (4, 5), (1, 2), (1, 4), (5, 2), (5, 4)]\n",
      "4 3\n",
      "[(3, 1), (3, 5), (5, 1), (5, 5), (2, 2), (2, 4), (6, 2), (6, 4)]\n",
      "5 3\n",
      "[(4, 1), (4, 5), (6, 1), (6, 5), (3, 2), (3, 4), (7, 2), (7, 4)]\n",
      "0 4\n",
      "[(-1, 2), (-1, 6), (1, 2), (1, 6), (-2, 3), (-2, 5), (2, 3), (2, 5)]\n",
      "1 4\n",
      "[(0, 2), (0, 6), (2, 2), (2, 6), (-1, 3), (-1, 5), (3, 3), (3, 5)]\n",
      "2 4\n",
      "[(1, 2), (1, 6), (3, 2), (3, 6), (0, 3), (0, 5), (4, 3), (4, 5)]\n",
      "3 4\n",
      "[(2, 2), (2, 6), (4, 2), (4, 6), (1, 3), (1, 5), (5, 3), (5, 5)]\n",
      "4 4\n",
      "[(3, 2), (3, 6), (5, 2), (5, 6), (2, 3), (2, 5), (6, 3), (6, 5)]\n",
      "5 4\n",
      "[(4, 2), (4, 6), (6, 2), (6, 6), (3, 3), (3, 5), (7, 3), (7, 5)]\n",
      "0 5\n",
      "[(-1, 3), (-1, 7), (1, 3), (1, 7), (-2, 4), (-2, 6), (2, 4), (2, 6)]\n",
      "1 5\n",
      "[(0, 3), (0, 7), (2, 3), (2, 7), (-1, 4), (-1, 6), (3, 4), (3, 6)]\n",
      "2 5\n",
      "[(1, 3), (1, 7), (3, 3), (3, 7), (0, 4), (0, 6), (4, 4), (4, 6)]\n",
      "3 5\n",
      "[(2, 3), (2, 7), (4, 3), (4, 7), (1, 4), (1, 6), (5, 4), (5, 6)]\n",
      "4 5\n",
      "[(3, 3), (3, 7), (5, 3), (5, 7), (2, 4), (2, 6), (6, 4), (6, 6)]\n",
      "5 5\n",
      "[(4, 3), (4, 7), (6, 3), (6, 7), (3, 4), (3, 6), (7, 4), (7, 6)]\n"
     ]
    }
   ],
   "source": [
    "# Implement chess rules: for each start position, set all impossible end positions to false\n",
    "for start in range(bsize):\n",
    "    # Illegal end positions:\n",
    "    illegal = set(range(bsize)) - knight_moves(start)    \n",
    "    for unend in illegal:\n",
    "        model.Add(board[start][unend] == 0)"
   ]
  },
  {
   "cell_type": "code",
   "execution_count": 13,
   "metadata": {
    "colab": {
     "base_uri": "https://localhost:8080/",
     "height": 34
    },
    "colab_type": "code",
    "executionInfo": {
     "elapsed": 1318,
     "status": "ok",
     "timestamp": 1585455982413,
     "user": {
      "displayName": "Reza Kakooee",
      "photoUrl": "https://lh3.googleusercontent.com/a-/AOh14Gi1zpyCKvsfdcje0ppT-gCN8jSlepkIsrg6lxm-=s64",
      "userId": "16168100037659286234"
     },
     "user_tz": -120
    },
    "id": "q9pyatAlXF9w",
    "outputId": "c0893ece-abc2-4511-9fc3-48f1fa90512d"
   },
   "outputs": [],
   "source": [
    "# OR-Tools expects (x, y, var) triples\n",
    "edges = [(start, end, board[start][end]) for start in range(bsize) for end in range(bsize)]\n",
    "\n",
    "# No cycles, i.e. visit each cell exactly once\n",
    "_ = model.AddCircuit(edges)"
   ]
  },
  {
   "cell_type": "markdown",
   "metadata": {},
   "source": [
    "## Solve Model and Visualize"
   ]
  },
  {
   "cell_type": "code",
   "execution_count": 14,
   "metadata": {
    "colab": {},
    "colab_type": "code",
    "id": "VVDpXOYzF8mr"
   },
   "outputs": [],
   "source": [
    "solver = cp_model.CpSolver()\n",
    "status = solver.Solve(model)"
   ]
  },
  {
   "cell_type": "code",
   "execution_count": 15,
   "metadata": {
    "colab": {
     "base_uri": "https://localhost:8080/",
     "height": 629
    },
    "colab_type": "code",
    "executionInfo": {
     "elapsed": 1444,
     "status": "ok",
     "timestamp": 1585455982673,
     "user": {
      "displayName": "Reza Kakooee",
      "photoUrl": "https://lh3.googleusercontent.com/a-/AOh14Gi1zpyCKvsfdcje0ppT-gCN8jSlepkIsrg6lxm-=s64",
      "userId": "16168100037659286234"
     },
     "user_tz": -120
    },
    "id": "y7_bxRGUGuvF",
    "outputId": "a6f93bac-bc43-49d6-c703-8647fde2668c"
   },
   "outputs": [
    {
     "name": "stdout",
     "output_type": "stream",
     "text": [
      "Jump from 00 to 08\n",
      "Jump from 01 to 12\n",
      "Jump from 02 to 13\n",
      "Jump from 03 to 07\n",
      "Jump from 04 to 15\n",
      "Jump from 05 to 09\n",
      "Jump from 06 to 19\n",
      "Jump from 07 to 18\n",
      "Jump from 08 to 16\n",
      "Jump from 09 to 01\n",
      "Jump from 10 to 02\n",
      "Jump from 11 to 03\n",
      "Jump from 12 to 25\n",
      "Jump from 13 to 00\n",
      "Jump from 14 to 06\n",
      "Jump from 15 to 11\n",
      "Jump from 16 to 05\n",
      "Jump from 17 to 04\n",
      "Jump from 18 to 31\n",
      "Jump from 19 to 30\n",
      "Jump from 20 to 28\n",
      "Jump from 21 to 32\n",
      "Jump from 22 to 14\n",
      "Jump from 23 to 10\n",
      "Jump from 24 to 20\n",
      "Jump from 25 to 33\n",
      "Jump from 26 to 34\n",
      "Jump from 27 to 35\n",
      "Jump from 28 to 17\n",
      "Jump from 29 to 21\n",
      "Jump from 30 to 26\n",
      "Jump from 31 to 27\n",
      "Jump from 32 to 24\n",
      "Jump from 33 to 29\n",
      "Jump from 34 to 23\n",
      "Jump from 35 to 22\n"
     ]
    }
   ],
   "source": [
    "if status == cp_model.FEASIBLE and size < 10:\n",
    "    for r in range(bsize):\n",
    "        for c in range(bsize):\n",
    "            if solver.Value(board[r][c]) == True:\n",
    "                print('Jump from {:02d} to {:02d}'.format(r, c))"
   ]
  },
  {
   "cell_type": "markdown",
   "metadata": {
    "colab_type": "text",
    "id": "EivUNEP0VmC9"
   },
   "source": [
    "### Prepare Datastructure for Visualization"
   ]
  },
  {
   "cell_type": "code",
   "execution_count": 16,
   "metadata": {
    "colab": {},
    "colab_type": "code",
    "id": "AnoNtWvLXF90",
    "scrolled": false
   },
   "outputs": [
    {
     "name": "stdout",
     "output_type": "stream",
     "text": [
      "Sequence of moves: [0, 8, 16, 5, 9, 1, 12, 25, 33, 29, 21, 32, 24, 20, 28, 17, 4, 15, 11, 3] ...\n"
     ]
    }
   ],
   "source": [
    "START_POINT = 0\n",
    "\n",
    "start = START_POINT\n",
    "starts_list = [start]\n",
    "ends_list = []\n",
    "\n",
    "if status == cp_model.FEASIBLE:\n",
    "    while True:\n",
    "        end = [end for end in range(bsize) if solver.Value(board[start][end]) == True][0]\n",
    "        ends_list.append(end)\n",
    "        start = end\n",
    "        starts_list.append(end)\n",
    "        if start == START_POINT:\n",
    "              break\n",
    "    print('Sequence of moves:', starts_list[:20], '...')\n",
    "else:\n",
    "    print('No solution found.')"
   ]
  },
  {
   "cell_type": "markdown",
   "metadata": {
    "colab_type": "text",
    "id": "6wPsI6CSatSU"
   },
   "source": [
    "# Visualization"
   ]
  },
  {
   "cell_type": "code",
   "execution_count": 17,
   "metadata": {
    "colab": {
     "base_uri": "https://localhost:8080/",
     "height": 469
    },
    "colab_type": "code",
    "executionInfo": {
     "elapsed": 135,
     "status": "ok",
     "timestamp": 1585456005756,
     "user": {
      "displayName": "Reza Kakooee",
      "photoUrl": "https://lh3.googleusercontent.com/a-/AOh14Gi1zpyCKvsfdcje0ppT-gCN8jSlepkIsrg6lxm-=s64",
      "userId": "16168100037659286234"
     },
     "user_tz": -120
    },
    "id": "TbYsHRjmayuW",
    "outputId": "a02e0bf6-8a77-4df7-e05a-75793f2f90ae",
    "scrolled": false
   },
   "outputs": [
    {
     "data": {
      "image/png": "[encoded data removed]",
      "text/plain": [
       "<Figure size 576x576 with 1 Axes>"
      ]
     },
     "metadata": {},
     "output_type": "display_data"
    }
   ],
   "source": [
    "if status == cp_model.FEASIBLE:\n",
    "    \n",
    "    rect_coordinates  = [p2c(i) for i in starts_list]\n",
    "    arrow_coordinates = [(p2c(i)[0]+0.5, p2c(i)[1]+0.5) for i in starts_list]\n",
    "    \n",
    "    chessboard = np.zeros((size, size))\n",
    "    EVEN_COLOR = '#99CCFF'\n",
    "    ODD_COLOR = '#3399FF' \n",
    "    rect_w = 1\n",
    "    rect_h = 1\n",
    "    rect_shift_x = 0\n",
    "    rect_shift_y = 0\n",
    "    fig, ax = plt.subplots(figsize=(8,8))\n",
    "    plt.xticks([])\n",
    "    plt.yticks([])\n",
    "    c = ax.pcolor(chessboard, edgecolors='k', linewidths=1, cmap='binary')\n",
    "\n",
    "    for p in range(bsize):\n",
    "        plt.text(p2c(p)[0]+0.55, p2c(p)[1]+0.55, str(p), fontsize=12)\n",
    "        \n",
    "    for t in range(bsize-1):    \n",
    "        \n",
    "        # Special layout for start cell\n",
    "        if t == 0:      \n",
    "            rect_xy = rect_coordinates[t]\n",
    "            rect = patches.Rectangle((rect_xy[0]+rect_shift_x, rect_xy[1]+rect_shift_y), rect_w, rect_h, linewidth=1, facecolor='None')\n",
    "            ax.add_patch(rect)\n",
    "            plt.scatter(rect_xy[0]+0.5, rect_xy[1]+0.5, c='k', marker='o', s=100)\n",
    "    \n",
    "        # Color rectanges\n",
    "        rect_xy = rect_coordinates[t+1]\n",
    "        color = EVEN_COLOR if t % 2 == 0 else ODD_COLOR \n",
    "        rect = patches.Rectangle((rect_xy[0]+rect_shift_x, rect_xy[1]+rect_shift_y), rect_w, rect_h, linewidth=1, edgecolor='black', facecolor=color)\n",
    "        ax.add_patch(rect)\n",
    "        \n",
    "        # Draw arrow\n",
    "        arrow_start = arrow_coordinates[t]\n",
    "        arrow_stop = arrow_coordinates[t+1]\n",
    "        diff = (arrow_stop[0] - arrow_start[0], arrow_stop[1] - arrow_start[1])\n",
    "        plt.arrow(arrow_start[0], arrow_start[1], diff[0], diff[1], head_width=0.2, head_length=0.2, fc='k', ec='k')\n",
    "        \n",
    "        # Update animation\n",
    "        time.sleep(.01)\n",
    "        display.display(plt.gcf())\n",
    "        display.clear_output(wait=True)\n",
    "    "
   ]
  },
  {
   "cell_type": "code",
   "execution_count": null,
   "metadata": {},
   "outputs": [],
   "source": []
  }
 ],
 "metadata": {
  "colab": {
   "collapsed_sections": [],
   "name": "KnightTour-WithVis.ipynb",
   "provenance": [
    {
     "file_id": "1R0KvzFcP_j_ftyOf_VUmy3pW4312C4uC",
     "timestamp": 1585418767383
    }
   ]
  },
  "jupytext": {
   "cell_metadata_filter": "-all",
   "encoding": "# -*- coding: utf-8 -*-",
   "main_language": "python",
   "notebook_metadata_filter": "-all"
  },
  "kernelspec": {
   "display_name": "Python 3",
   "language": "python",
   "name": "python3"
  },
  "language_info": {
   "codemirror_mode": {
    "name": "ipython",
    "version": 3
   },
   "file_extension": ".py",
   "mimetype": "text/x-python",
   "name": "python",
   "nbconvert_exporter": "python",
   "pygments_lexer": "ipython3",
   "version": "3.8.1"
  }
 },
 "nbformat": 4,
 "nbformat_minor": 1
}
