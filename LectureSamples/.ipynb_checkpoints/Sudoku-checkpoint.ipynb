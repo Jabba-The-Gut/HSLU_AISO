{
 "cells": [
  {
   "cell_type": "markdown",
   "metadata": {},
   "source": [
    "# Sudoku Example"
   ]
  },
  {
   "cell_type": "markdown",
   "metadata": {},
   "source": [
    "Lucerne University of Applied Sciences and Arts - School of Information Technology\n",
    "\n",
    "Fill in numbers from 1 to 9 so that each row, column and 3x3 block contains each number exactly once.\n",
    "\n",
    "@author: Tobias Mérinat"
   ]
  },
  {
   "cell_type": "markdown",
   "metadata": {},
   "source": [
    "Imports"
   ]
  },
  {
   "cell_type": "code",
   "execution_count": 1,
   "metadata": {
    "lines_to_next_cell": 1
   },
   "outputs": [],
   "source": [
    "from ortools.sat.python import cp_model\n",
    "from itertools import product"
   ]
  },
  {
   "cell_type": "markdown",
   "metadata": {},
   "source": [
    "Sudoku puzzles from newspapers. Get more from [here](https://sudoku.tagesspiegel.de/sudoku-sehr-schwer/)"
   ]
  },
  {
   "cell_type": "code",
   "execution_count": 2,
   "metadata": {},
   "outputs": [],
   "source": [
    "sudoku1 = [\n",
    "    [\"1\", \"\", \"\", \"\", \"3\", \"\", \"\", \"8\", \"\"],\n",
    "    [\"\", \"6\", \"\", \"4\", \"\", \"\", \"\", \"\", \"\"],\n",
    "    [\"\", \"\", \"4\", \"\", \"\", \"9\", \"3\", \"\", \"\"],\n",
    "    [\"\", \"4\", \"5\", \"\", \"\", \"6\", \"\", \"\", \"7\"],\n",
    "    [\"9\", \"\", \"\", \"\", \"\", \"5\", \"\", \"\", \"\"],\n",
    "    [\"\", \"\", \"8\", \"\", \"\", \"3\", \"\", \"2\", \"\"],\n",
    "    [\"\", \"\", \"\", \"\", \"\", \"\", \"9\", \"5\", \"6\"],\n",
    "    [\"\", \"2\", \"\", \"\", \"\", \"\", \"\", \"\", \"\"],\n",
    "    [\"\", \"\", \"7\", \"\", \"\", \"8\", \"\", \"1\", \"\"]\n",
    "]\n",
    "sudoku2 = [\n",
    "    [\"4\", \"\", \"8\", \"\", \"\", \"\", \"\", \"\", \"\"],\n",
    "    [\"\", \"\", \"\", \"1\", \"7\", \"\", \"\", \"\", \"\"],\n",
    "    [\"\", \"\", \"\", \"\", \"8\", \"\", \"\", \"3\", \"2\"],\n",
    "    [\"\", \"\", \"6\", \"\", \"\", \"8\", \"2\", \"5\", \"\"],\n",
    "    [\"\", \"9\", \"\", \"\", \"\", \"\", \"\", \"8\", \"\"],\n",
    "    [\"\", \"3\", \"7\", \"6\", \"\", \"\", \"9\", \"\", \"\"],\n",
    "    [\"2\", \"7\", \"\", \"\", \"5\", \"\", \"\", \"\", \"\"],\n",
    "    [\"\", \"\", \"\", \"\", \"1\", \"4\", \"\", \"\", \"\"],\n",
    "    [\"\", \"\", \"\", \"\", \"\", \"\", \"6\", \"\", \"4\"]\n",
    "]\n",
    "sudoku3 = [\n",
    "    [\"8\", \"\", \"\", \"3\", \"\", \"2\", \"\", \"\", \"7\"],\n",
    "    [\"\", \"4\", \"\", \"\", \"6\", \"\", \"\", \"9\", \"\"],\n",
    "    [\"\", \"\", \"5\", \"\", \"\", \"\", \"6\", \"\", \"\"],\n",
    "    [\"1\", \"\", \"\", \"6\", \"\", \"8\", \"\", \"\", \"5\"],\n",
    "    [\"\", \"3\", \"\", \"\", \"2\", \"\", \"\", \"1\", \"\"],\n",
    "    [\"4\", \"\", \"\", \"7\", \"\", \"3\", \"\", \"\", \"6\"],\n",
    "    [\"\", \"\", \"6\", \"\", \"\", \"\", \"8\", \"\", \"\"],\n",
    "    [\"\", \"2\", \"\", \"\", \"3\", \"\", \"\", \"6\", \"\"],\n",
    "    [\"5\", \"\", \"\", \"2\", \"\", \"6\", \"\", \"\", \"1\"]\n",
    "]\n",
    "sudoku4 = [\n",
    "    [\"\", \"\", \"6\", \"1\", \"\", \"\", \"\", \"\", \"8\"],\n",
    "    [\"\", \"7\", \"\", \"\", \"9\", \"\", \"\", \"2\", \"\"],\n",
    "    [\"3\", \"\", \"\", \"\", \"\", \"6\", \"9\", \"\", \"\"],\n",
    "    [\"6\", \"\", \"\", \"\", \"\", \"2\", \"3\", \"\", \"\"],\n",
    "    [\"\", \"8\", \"\", \"\", \"4\", \"\", \"\", \"1\", \"\"],\n",
    "    [\"\", \"\", \"4\", \"3\", \"\", \"\", \"\", \"\", \"9\"],\n",
    "    [\"\", \"\", \"9\", \"2\", \"\", \"\", \"\", \"\", \"4\"],\n",
    "    [\"\", \"5\", \"\", \"\", \"7\", \"\", \"\", \"8\", \"\"],\n",
    "    [\"8\", \"\", \"\", \"\", \"\", \"5\", \"1\", \"\", \"\"]\n",
    "]"
   ]
  },
  {
   "cell_type": "markdown",
   "metadata": {},
   "source": [
    "Pick one"
   ]
  },
  {
   "cell_type": "code",
   "execution_count": 3,
   "metadata": {},
   "outputs": [],
   "source": [
    "game = sudoku1"
   ]
  },
  {
   "cell_type": "markdown",
   "metadata": {},
   "source": [
    "Create constraint solver"
   ]
  },
  {
   "cell_type": "code",
   "execution_count": 4,
   "metadata": {},
   "outputs": [],
   "source": [
    "model = cp_model.CpModel()"
   ]
  },
  {
   "cell_type": "markdown",
   "metadata": {},
   "source": [
    "Board configuration (should match game)"
   ]
  },
  {
   "cell_type": "code",
   "execution_count": 5,
   "metadata": {},
   "outputs": [],
   "source": [
    "cell_size = 3\n",
    "board_size = cell_size * cell_size\n",
    "board_indices = list(product(range(board_size), repeat=2))  # tuples (i, j) for all board indices\n",
    "cell_indices  = list(product(range(cell_size), repeat=2))   # tuples (i, j) for all cell indices"
   ]
  },
  {
   "cell_type": "markdown",
   "metadata": {},
   "source": [
    "Board as nxn matrix of decision variables with value in {1..9]"
   ]
  },
  {
   "cell_type": "code",
   "execution_count": 6,
   "metadata": {},
   "outputs": [],
   "source": [
    "board = [[model.NewIntVar(1, board_size, '({},{})'.format(_i,_j)) for _j in range(board_size)] for _i in range(board_size)]"
   ]
  },
  {
   "cell_type": "markdown",
   "metadata": {},
   "source": [
    "Pre-Assignments"
   ]
  },
  {
   "cell_type": "code",
   "execution_count": 7,
   "metadata": {},
   "outputs": [],
   "source": [
    "for i, j in board_indices:\n",
    "    if len(game[i][j]) > 0:  # elements are strings, so check for length\n",
    "        model.Add(board[i][j] == int(game[i][j]))"
   ]
  },
  {
   "cell_type": "markdown",
   "metadata": {},
   "source": [
    "Each row and each column contains only different values"
   ]
  },
  {
   "cell_type": "code",
   "execution_count": 8,
   "metadata": {},
   "outputs": [],
   "source": [
    "for i in range(board_size):\n",
    "    model.AddAllDifferent([board[i][j] for j in range(board_size)])  # Rows\n",
    "    model.AddAllDifferent([board[j][i] for j in range(board_size)])  # Columns"
   ]
  },
  {
   "cell_type": "markdown",
   "metadata": {},
   "source": [
    "Each 3x3 sub-matrix contains only different values"
   ]
  },
  {
   "cell_type": "code",
   "execution_count": 9,
   "metadata": {},
   "outputs": [],
   "source": [
    "for i, j in cell_indices:\n",
    "    model.AddAllDifferent([board[i * cell_size + di][j * cell_size + dj] for di in range(cell_size) for dj in range(cell_size)])"
   ]
  },
  {
   "cell_type": "markdown",
   "metadata": {},
   "source": [
    "Callback for solution printing"
   ]
  },
  {
   "cell_type": "code",
   "execution_count": 10,
   "metadata": {},
   "outputs": [],
   "source": [
    "class SolutionPrinter(cp_model.CpSolverSolutionCallback):\n",
    "    \n",
    "    def __init__(self, variables):\n",
    "        cp_model.CpSolverSolutionCallback.__init__(self)\n",
    "        self.__variables = variables\n",
    "        \n",
    "    def on_solution_callback(self):\n",
    "        for i in range(len(self.__variables)):\n",
    "            for j in range(len(self.__variables)):\n",
    "                print(\"[{}] \".format(self.Value(self.__variables[i][j])), end='')\n",
    "            print(\"\\n\")\n",
    "        print(\"\\n\\n\")"
   ]
  },
  {
   "cell_type": "markdown",
   "metadata": {},
   "source": [
    "Solve and print all solutions"
   ]
  },
  {
   "cell_type": "code",
   "execution_count": 11,
   "metadata": {
    "scrolled": false
   },
   "outputs": [
    {
     "name": "stdout",
     "output_type": "stream",
     "text": [
      "[1] [5] [9] [6] [3] [2] [7] [8] [4] \n",
      "\n",
      "[3] [6] [2] [4] [8] [7] [1] [9] [5] \n",
      "\n",
      "[7] [8] [4] [1] [5] [9] [3] [6] [2] \n",
      "\n",
      "[2] [4] [5] [9] [1] [6] [8] [3] [7] \n",
      "\n",
      "[9] [7] [3] [8] [2] [5] [6] [4] [1] \n",
      "\n",
      "[6] [1] [8] [7] [4] [3] [5] [2] [9] \n",
      "\n",
      "[8] [3] [1] [2] [7] [4] [9] [5] [6] \n",
      "\n",
      "[5] [2] [6] [3] [9] [1] [4] [7] [8] \n",
      "\n",
      "[4] [9] [7] [5] [6] [8] [2] [1] [3] \n",
      "\n",
      "\n",
      "\n",
      "\n"
     ]
    }
   ],
   "source": [
    "solver = cp_model.CpSolver()\n",
    "_ = solver.SearchForAllSolutions(model, SolutionPrinter(board))"
   ]
  },
  {
   "cell_type": "code",
   "execution_count": 12,
   "metadata": {},
   "outputs": [
    {
     "name": "stdout",
     "output_type": "stream",
     "text": [
      "Runtime:   0.010534ms\n",
      "Booleans:  43\n",
      "Failures:  9\n",
      "Branches:  87 \n"
     ]
    }
   ],
   "source": [
    "print(\"Runtime:   {}ms\".format(solver.WallTime()))\n",
    "print(\"Booleans:  {}\".format(solver.NumBooleans()))\n",
    "print(\"Failures:  {}\".format(solver.NumConflicts()))\n",
    "print(\"Branches:  {} \".format(solver.NumBranches()))"
   ]
  },
  {
   "cell_type": "code",
   "execution_count": null,
   "metadata": {},
   "outputs": [],
   "source": []
  }
 ],
 "metadata": {
  "jupytext": {
   "cell_metadata_filter": "-all",
   "main_language": "python",
   "notebook_metadata_filter": "-all",
   "text_representation": {
    "extension": ".py",
    "format_name": "percent"
   }
  },
  "kernelspec": {
   "display_name": "Python 3",
   "language": "python",
   "name": "python3"
  },
  "language_info": {
   "codemirror_mode": {
    "name": "ipython",
    "version": 3
   },
   "file_extension": ".py",
   "mimetype": "text/x-python",
   "name": "python",
   "nbconvert_exporter": "python",
   "pygments_lexer": "ipython3",
   "version": "3.6.10"
  }
 },
 "nbformat": 4,
 "nbformat_minor": 2
}
