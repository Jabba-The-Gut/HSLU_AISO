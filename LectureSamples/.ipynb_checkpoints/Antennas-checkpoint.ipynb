{
 "cells": [
  {
   "cell_type": "markdown",
   "metadata": {},
   "source": [
    "# Frequency Assignment with Real Data"
   ]
  },
  {
   "cell_type": "markdown",
   "metadata": {},
   "source": [
    "Lucerne University of Applied Sciences and Arts - School of Information Technology\n",
    "\n",
    "@author: Tobias Mérinat and Marc Pouly"
   ]
  },
  {
   "cell_type": "markdown",
   "metadata": {},
   "source": [
    "<img src=\"https://upload.wikimedia.org/wikipedia/en/5/59/Swisscom_logo.svg\" width='150'/>"
   ]
  },
  {
   "cell_type": "markdown",
   "metadata": {},
   "source": [
    "You are given part of the Swisscom LTE Antenna data. The file contains all existing neighboring relations as well as candidate relations for future cells for a selected area (not all of Switzerland). Your task is to assign a PCI (Physical Layer Cell ID) to each cell, without `collisions` and `confusions` and `minimize the number of PCIs`. PCIs can be between 0 and 503. More details can be found in the paper [Physical Cell ID Allocation in Cellular Networks](https://www.diva-portal.org/smash/get/diva2:940787/FULLTEXT01.pdf) by Sofia Nyberg. See page 2 for an explanation on collisions and confusions."
   ]
  },
  {
   "cell_type": "markdown",
   "metadata": {},
   "source": [
    "Collision | Confusion\n",
    "--- | ---\n",
    "<img src=\"collision.png\" height='50'> | <img src=\"confusion.png\" height='50'>"
   ]
  },
  {
   "cell_type": "markdown",
   "metadata": {},
   "source": [
    "In the real world, there are also some additional constraints that we will not consider in this exercise. One example of such an additional constraint is the restriction of certain PCIs around the country border."
   ]
  },
  {
   "cell_type": "code",
   "execution_count": 14,
   "metadata": {},
   "outputs": [
    {
     "name": "stderr",
     "output_type": "stream",
     "text": [
      "/Users/jabbathegut/.local/share/virtualenvs/AISO-NIF0zkfA/lib/python3.8/site-packages/tqdm/std.py:658: FutureWarning: The Panel class is removed from pandas. Accessing it from the top-level namespace will also be removed in the next version\n",
      "  from pandas import Panel\n"
     ]
    }
   ],
   "source": [
    "import colorsys\n",
    "import numpy as np\n",
    "import pandas as pd\n",
    "import networkx as nx\n",
    "import matplotlib.pyplot as plt\n",
    "\n",
    "from tqdm.notebook import tqdm\n",
    "from itertools import combinations\n",
    "from ortools.sat.python import cp_model\n",
    "\n",
    "# Initialize progress bar\n",
    "tqdm.pandas()  \n",
    "\n",
    "%matplotlib inline"
   ]
  },
  {
   "cell_type": "markdown",
   "metadata": {},
   "source": [
    "## Input Network Data\n",
    "\n",
    "Edge (x, y) means that its two cells x and y are neighbors."
   ]
  },
  {
   "cell_type": "code",
   "execution_count": 15,
   "metadata": {},
   "outputs": [
    {
     "name": "stdout",
     "output_type": "stream",
     "text": [
      "            x       y\n",
      "0      X00645  X00457\n",
      "1      X00057  X00457\n",
      "2      X01522  X00457\n",
      "3      X00044  X00457\n",
      "4      X01204  X00457\n",
      "...       ...     ...\n",
      "73025  X01500  X01744\n",
      "73026  X01500  X01254\n",
      "73027  X01500  X00166\n",
      "73028  X01500  X01886\n",
      "73029  X01500  X00752\n",
      "\n",
      "[73030 rows x 2 columns]\n",
      "Number of edges: 73030\n"
     ]
    }
   ],
   "source": [
    "edges = pd.read_fwf(\"nbrs.txt\", header=None, names=['x', 'y'], dtype=str)\n",
    "\n",
    "print(edges)\n",
    "print('Number of edges:', len(edges))"
   ]
  },
  {
   "cell_type": "markdown",
   "metadata": {},
   "source": [
    "During development, you might want to shorten the graph to decrease computation time."
   ]
  },
  {
   "cell_type": "code",
   "execution_count": 16,
   "metadata": {},
   "outputs": [],
   "source": [
    "edges = edges.head(30)"
   ]
  },
  {
   "cell_type": "markdown",
   "metadata": {},
   "source": [
    "## Prepare Datastructures"
   ]
  },
  {
   "cell_type": "code",
   "execution_count": 17,
   "metadata": {},
   "outputs": [
    {
     "name": "stdout",
     "output_type": "stream",
     "text": [
      "0     X00044\n",
      "1     X00057\n",
      "2     X00420\n",
      "3     X00457\n",
      "4     X00499\n",
      "5     X00645\n",
      "6     X00778\n",
      "7     X00851\n",
      "8     X00860\n",
      "9     X01204\n",
      "10    X01484\n",
      "11    X01489\n",
      "12    X01522\n",
      "13    X01593\n",
      "14    X01879\n",
      "15    X01916\n",
      "16    X01977\n",
      "17    X02058\n",
      "dtype: object\n",
      "Number of vertices: 18\n"
     ]
    }
   ],
   "source": [
    "# A list of all vertex IDs\n",
    "vertices = pd.Series(np.sort(pd.concat([edges.x, edges.y]).unique()))\n",
    "\n",
    "size = len(vertices)\n",
    "print(vertices)\n",
    "print('Number of vertices:', size)"
   ]
  },
  {
   "cell_type": "code",
   "execution_count": 18,
   "metadata": {},
   "outputs": [
    {
     "data": {
      "application/vnd.jupyter.widget-view+json": {
       "model_id": "5fa308c21c2d48ac8f6c0df2462c048a",
       "version_major": 2,
       "version_minor": 0
      },
      "text/plain": [
       "HBox(children=(FloatProgress(value=0.0, max=30.0), HTML(value='')))"
      ]
     },
     "metadata": {},
     "output_type": "display_data"
    },
    {
     "name": "stdout",
     "output_type": "stream",
     "text": [
      "\n"
     ]
    },
    {
     "data": {
      "application/vnd.jupyter.widget-view+json": {
       "model_id": "ce1c737cd9d340d89e63a502665ed70a",
       "version_major": 2,
       "version_minor": 0
      },
      "text/plain": [
       "HBox(children=(FloatProgress(value=0.0, max=30.0), HTML(value='')))"
      ]
     },
     "metadata": {},
     "output_type": "display_data"
    },
    {
     "name": "stdout",
     "output_type": "stream",
     "text": [
      "\n",
      "     x   y\n",
      "0    5   3\n",
      "1    1   3\n",
      "2   12   3\n",
      "3    0   3\n",
      "4    9   3\n",
      "5    4   3\n",
      "6    7   3\n",
      "7    8   3\n",
      "8   10   3\n",
      "9   13   3\n",
      "10   5   0\n",
      "11  15   0\n",
      "12  12   0\n",
      "13   3   0\n",
      "14   9   0\n",
      "15   2   0\n",
      "16   4   0\n",
      "17  11   0\n",
      "18  14   0\n",
      "19  16   0\n",
      "20  10   0\n",
      "21  13   0\n",
      "22   5  12\n",
      "23   1  12\n",
      "24   3  12\n",
      "25   0  12\n",
      "26   6  12\n",
      "27  16  12\n",
      "28  10  12\n",
      "29  17  12\n"
     ]
    }
   ],
   "source": [
    "# Map edges from strings to numbers, i.e. assign each edge the position index from the list of vertices.\n",
    "edges.x = edges.x.progress_apply(lambda i: (vertices==i).idxmax())\n",
    "edges.y = edges.y.progress_apply(lambda i: (vertices==i).idxmax())\n",
    "print(edges)"
   ]
  },
  {
   "cell_type": "markdown",
   "metadata": {},
   "source": [
    "Number of available PCIs (from 0 to 503) = 504. We do not need more that the number of nodes."
   ]
  },
  {
   "cell_type": "code",
   "execution_count": 19,
   "metadata": {},
   "outputs": [],
   "source": [
    "pci_len = min(size, 504)"
   ]
  },
  {
   "cell_type": "markdown",
   "metadata": {},
   "source": [
    "* Avoiding collision means that neighbors must have different PCIs assigned. \n",
    "* Avoiding confusion means that na node must not have two neighbors with the same PCI assigned.\n",
    "\n",
    "Taking both constraints together, this basically means that each node and its neighborhood must have different PCI.\n",
    "We can model this with an AllDifferent constraint over each neighborhood. The following cell identifies all neighborhoods."
   ]
  },
  {
   "cell_type": "code",
   "execution_count": 20,
   "metadata": {},
   "outputs": [
    {
     "data": {
      "application/vnd.jupyter.widget-view+json": {
       "model_id": "58e8def43454466fb5949e19306e780b",
       "version_major": 2,
       "version_minor": 0
      },
      "text/plain": [
       "HBox(children=(FloatProgress(value=0.0, max=18.0), HTML(value='')))"
      ]
     },
     "metadata": {},
     "output_type": "display_data"
    },
    {
     "name": "stdout",
     "output_type": "stream",
     "text": [
      "\n",
      "Some neighborhood examples: [{0, 2, 3, 4, 5, 9, 10, 11, 12, 13, 14, 15, 16}, {1, 3, 12}, {0, 2}]\n"
     ]
    }
   ],
   "source": [
    "neighborhoods = []\n",
    "\n",
    "for vertex in tqdm(vertices.index):\n",
    "    neighborhoods.append(set(edges[edges.x==vertex].y.tolist() + edges[edges.y==vertex].x.tolist() + [vertex]))\n",
    "    \n",
    "print('Some neighborhood examples:', neighborhoods[:3])"
   ]
  },
  {
   "cell_type": "code",
   "execution_count": 21,
   "metadata": {},
   "outputs": [
    {
     "name": "stdout",
     "output_type": "stream",
     "text": [
      "Largest Neighborhood: 13\n"
     ]
    }
   ],
   "source": [
    "max_neighborhood = max([len(x) for x in neighborhoods])\n",
    "\n",
    "print('Largest Neighborhood:', max_neighborhood)"
   ]
  },
  {
   "cell_type": "markdown",
   "metadata": {},
   "source": [
    "## Constraint Model"
   ]
  },
  {
   "cell_type": "code",
   "execution_count": 31,
   "metadata": {
    "scrolled": true
   },
   "outputs": [],
   "source": [
    "model = cp_model.CpModel()\n",
    "\n",
    "# Matrix of Boolean variables: row indices stand for graph nodes; column indices for PCIs\n",
    "cells = [[model.NewBoolVar(f\"({_i},{_j})\") for _j in range(pci_len)] for _i in range(size)]\n",
    "\n",
    "# Each cell takes exactly one PCI\n",
    "for n in range(size):\n",
    "    model.Add(sum([cells[n][pci] for pci in range(pci_len)]) == 1)\n",
    "\n",
    "# Model with a single array: pci[n] = j <=> node n takes PCI j\n",
    "pci = [model.NewIntVar(0, pci_len, str(i)) for i in range(size)]\n",
    "\n",
    "# Channel constraints\n",
    "for n in range(size):\n",
    "    for p in range(pci_len):\n",
    "        # When count > 0 this color has been used\n",
    "        model.Add(pci[n] == p).OnlyEnforceIf(cells[n][p])\n",
    "        # When count == 0 this color has not been used\n",
    "        model.Add(pci[n] != p).OnlyEnforceIf(cells[n][p].Not())\n",
    "        \n",
    "# Avoid collision and confusion        \n",
    "for neighbors in neighborhoods:\n",
    "    model.AddAllDifferent([pci[x] for x in neighbors])\n",
    "     \n",
    "# Elementary symmetry breaking: First node takes first color\n",
    "model.Add(cells[0][0] == 1)\n",
    "\n",
    "# How many times has a PCI been used ?\n",
    "used = [model.NewIntVar(0, size, str(c)) for c in range(pci_len)]\n",
    "\n",
    "for c in range(pci_len):\n",
    "    model.Add(used[c] == sum([cells[n][c] for n in range(size)]))\n",
    "\n",
    "# Has a PCI been used at all?\n",
    "used_at_all = [model.NewBoolVar(str(c)) for c in range(pci_len)]\n",
    "\n",
    "# Channel constraints\n",
    "for c in range(pci_len):\n",
    "    # When used > 0 this PCI has been used\n",
    "    model.Add(used[c] > 0).OnlyEnforceIf(used_at_all[c])\n",
    "    # When used == 0 this PCI has not been used\n",
    "    model.Add(used[c] == 0).OnlyEnforceIf(used_at_all[c].Not())\n",
    "\n",
    "# We need at least as many PCIs as the largest neighborhood\n",
    "model.Add(sum(used_at_all) >= max_neighborhood)\n",
    "\n",
    "# Objective function: minimize number of used variables\n",
    "model.Minimize(sum(used_at_all))"
   ]
  },
  {
   "cell_type": "code",
   "execution_count": 23,
   "metadata": {},
   "outputs": [
    {
     "name": "stdout",
     "output_type": "stream",
     "text": [
      "Solver status: OPTIMAL \n",
      "For the 18 antennas, a total of 13 PCIs have been assigned.\n"
     ]
    }
   ],
   "source": [
    "solver = cp_model.CpSolver()\n",
    "\n",
    "# Sets a time limit of 10 seconds.\n",
    "solver.parameters.max_time_in_seconds = 10\n",
    "\n",
    "status = solver.Solve(model)\n",
    "\n",
    "if status == cp_model.OPTIMAL or status == cp_model.FEASIBLE:\n",
    "    print('Solver status:', solver.StatusName(status), '')\n",
    "    print(f\"For the {size} antennas, a total of {int(solver.ObjectiveValue())} PCIs have been assigned.\")\n",
    "    # for c in range(size):\n",
    "    #    print(f\"- Node {c} takes pci {solver.Value(pci[c])}\")\n",
    "else:\n",
    "    print(\"No solution found. Status =\", solver.StatusName(status))"
   ]
  },
  {
   "cell_type": "code",
   "execution_count": 24,
   "metadata": {},
   "outputs": [],
   "source": [
    "def get_colors(num_colors):\n",
    "    \"\"\" https://stackoverflow.com/a/9701141/2315949 \"\"\"\n",
    "    colors=[]\n",
    "    for i in np.arange(0., 360., 360. / num_colors):\n",
    "        hue = i/360.\n",
    "        lightness = (50 + np.random.rand() * 10)/100.\n",
    "        saturation = (90 + np.random.rand() * 10)/100.\n",
    "        colors.append(colorsys.hls_to_rgb(hue, lightness, saturation))\n",
    "    return colors"
   ]
  },
  {
   "cell_type": "code",
   "execution_count": 25,
   "metadata": {
    "scrolled": false
   },
   "outputs": [
    {
     "data": {
      "image/png": "[encoded data removed]",
      "text/plain": [
       "<Figure size 1152x864 with 1 Axes>"
      ]
     },
     "metadata": {},
     "output_type": "display_data"
    }
   ],
   "source": [
    "if status == cp_model.OPTIMAL or status == cp_model.FEASIBLE:\n",
    "    result = [solver.Value(x) for x in pci]\n",
    "else:\n",
    "    result = [1 for x in range(size)]\n",
    "    \n",
    "# Create a distinct color for each PCI\n",
    "colors = get_colors(pci_len)\n",
    "    \n",
    "G = nx.Graph()\n",
    "G.add_nodes_from(vertices.index.tolist())\n",
    "G.add_edges_from(edges.values.tolist())\n",
    "    \n",
    "plt.figure(figsize=(16,12))\n",
    "nx.draw_networkx(G, with_labels=True, node_size=400, width=0.3, \n",
    "                 edge_color='grey', \n",
    "                 layout=nx.spring_layout(G, k=0.1, iterations=50), \n",
    "                 node_color=[colors[i] for i in result])\n",
    "plt.axis('off')\n",
    "plt.show()"
   ]
  },
  {
   "cell_type": "markdown",
   "metadata": {},
   "source": [
    "A know solution on the complete dataset:\n",
    "\n",
    "2262 cells, 73030 edges, 317522 unique constraints, 191 used PCIs, execution time 10s"
   ]
  },
  {
   "cell_type": "code",
   "execution_count": null,
   "metadata": {},
   "outputs": [],
   "source": []
  }
 ],
 "metadata": {
  "jupytext": {
   "cell_metadata_filter": "-all",
   "main_language": "python",
   "notebook_metadata_filter": "-all"
  },
  "kernelspec": {
   "display_name": "Python 3",
   "language": "python",
   "name": "python3"
  },
  "language_info": {
   "codemirror_mode": {
    "name": "ipython",
    "version": 3
   },
   "file_extension": ".py",
   "mimetype": "text/x-python",
   "name": "python",
   "nbconvert_exporter": "python",
   "pygments_lexer": "ipython3",
   "version": "3.8.1"
  }
 },
 "nbformat": 4,
 "nbformat_minor": 2
}
