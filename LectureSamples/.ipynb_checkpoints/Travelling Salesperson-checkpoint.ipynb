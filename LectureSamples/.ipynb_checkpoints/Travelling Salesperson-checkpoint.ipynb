{
 "cells": [
  {
   "cell_type": "markdown",
   "metadata": {},
   "source": [
    "# Travelling Salesperson Problems"
   ]
  },
  {
   "cell_type": "markdown",
   "metadata": {},
   "source": [
    "Lucerne University of Applied Sciences and Arts - School of Information Technology\n",
    "\n",
    "Code adapted from https://developers.google.com/optimization/routing/tsp/tsp\n",
    "\n",
    "@author: Tobias Mérinat and Marc Pouly"
   ]
  },
  {
   "cell_type": "code",
   "execution_count": 1,
   "metadata": {},
   "outputs": [],
   "source": [
    "from ortools.constraint_solver import pywrapcp, routing_enums_pb2\n",
    "from tsp_examples import small, large, gps, randomly, drilling, manhattan"
   ]
  },
  {
   "cell_type": "markdown",
   "metadata": {},
   "source": [
    "## Display Model Output as Roundtrip"
   ]
  },
  {
   "cell_type": "code",
   "execution_count": 2,
   "metadata": {},
   "outputs": [],
   "source": [
    "def print_solution(vehicles, cities, manager, routing, solution):\n",
    "    sum_route_distance = 0\n",
    "    for vehicle_id in range(vehicles):\n",
    "        index = routing.Start(vehicle_id)\n",
    "        plan_output = f\"Route for vehicle {vehicle_id}:\\n\"\n",
    "        route_distance = 0\n",
    "        while not routing.IsEnd(index):\n",
    "            plan_output += f\"{cities[manager.IndexToNode(index)]} > \"\n",
    "            previous_index = index\n",
    "            index = solution.Value(routing.NextVar(index))\n",
    "            dist = routing.GetArcCostForVehicle(previous_index, index, vehicle_id)\n",
    "            route_distance += dist\n",
    "            plan_output += f\"({dist}m) \"\n",
    "        plan_output += f\"{cities[manager.IndexToNode(index)]}\\n\"\n",
    "        plan_output += f\"Total distance of vehicle {vehicle_id}: {route_distance} miles\\n\"\n",
    "        print(plan_output)\n",
    "        sum_route_distance += route_distance\n",
    "    print(f\"Total distance over all vehicles: {sum_route_distance}m\")"
   ]
  },
  {
   "cell_type": "markdown",
   "metadata": {},
   "source": [
    "# Simple Example"
   ]
  },
  {
   "cell_type": "code",
   "execution_count": 3,
   "metadata": {},
   "outputs": [],
   "source": [
    "# Node index of the depot\n",
    "depot = 0\n",
    "\n",
    "# The number of available vehicles\n",
    "vehicles = 1\n",
    "\n",
    "# City names for printing\n",
    "names = [\"New York\", \"Los Angeles\", \"Chicago\", \"Salt Lake City\"]\n",
    "\n",
    "# Distance table\n",
    "distances = [\n",
    "    [0, 2451, 713, 1018],   # New York\n",
    "    [2451, 0, 1745, 1524],  # Los Angeles\n",
    "    [713, 1745, 0, 355],    # Chicago\n",
    "    [1018, 1524, 355, 0]]   # Salt Lake City)\n",
    "\n",
    "# Create the routing index manager\n",
    "manager = pywrapcp.RoutingIndexManager(len(names), vehicles, depot)"
   ]
  },
  {
   "cell_type": "markdown",
   "metadata": {},
   "source": [
    "### Shortest Roundtrip"
   ]
  },
  {
   "cell_type": "code",
   "execution_count": 4,
   "metadata": {},
   "outputs": [
    {
     "name": "stdout",
     "output_type": "stream",
     "text": [
      "Route for vehicle 0:\n",
      "New York > (713m) Chicago > (1745m) Los Angeles > (1524m) Salt Lake City > (1018m) New York\n",
      "Total distance of vehicle 0: 5000 miles\n",
      "\n",
      "Total distance over all vehicles: 5000m\n"
     ]
    }
   ],
   "source": [
    "# Create routing model\n",
    "routing = pywrapcp.RoutingModel(manager)\n",
    "\n",
    "# Define distance function\n",
    "def min_distance_func(ind_from, ind_to):\n",
    "    return distances[manager.IndexToNode(ind_from)][manager.IndexToNode(ind_to)]\n",
    "\n",
    "# Turn distance function into callback: This additional step will later allow vehicle specific distance functions, etc.\n",
    "callback = routing.RegisterTransitCallback(min_distance_func)\n",
    "\n",
    "# Register callback\n",
    "routing.SetArcCostEvaluatorOfAllVehicles(callback)\n",
    "\n",
    "# Solve model\n",
    "solution = routing.Solve()\n",
    "\n",
    "if solution:\n",
    "    print_solution(vehicles, names, manager, routing, solution)\n",
    "else:\n",
    "    print(\"No solution found.\")"
   ]
  },
  {
   "cell_type": "markdown",
   "metadata": {},
   "source": [
    "### Longest Roundtrip"
   ]
  },
  {
   "cell_type": "code",
   "execution_count": 5,
   "metadata": {},
   "outputs": [
    {
     "name": "stdout",
     "output_type": "stream",
     "text": [
      "Route for vehicle 0:\n",
      "New York > (2549m) Los Angeles > (3255m) Chicago > (4645m) Salt Lake City > (3982m) New York\n",
      "Total distance of vehicle 0: 14431 miles\n",
      "\n",
      "Total distance over all vehicles: 14431m\n",
      "But these are negated distances with a large constant added.\n",
      "Actual total distance: 5569m\n"
     ]
    }
   ],
   "source": [
    "# Create routing model\n",
    "routing = pywrapcp.RoutingModel(manager)\n",
    "\n",
    "# An additive shift larger than any number in the distance matrix\n",
    "shift = 5000\n",
    "\n",
    "# Define distance function (negation trick with large constant to avoid negative numbers).\n",
    "# Note that the addition of the shift is only necessary because OR-Tools does not accept negative distances.\n",
    "def max_distance_func(ind_from, ind_to):\n",
    "    return -distances[manager.IndexToNode(ind_from)][manager.IndexToNode(ind_to)] + shift\n",
    "\n",
    "# Turn distance function into callback\n",
    "callback = routing.RegisterTransitCallback(max_distance_func)\n",
    "\n",
    "# Register callback\n",
    "routing.SetArcCostEvaluatorOfAllVehicles(callback)\n",
    "\n",
    "# Solve model\n",
    "solution = routing.Solve()\n",
    "\n",
    "if solution:\n",
    "    print_solution(vehicles, names, manager, routing, solution)\n",
    "    print('But these are negated distances with a large constant added.')\n",
    "    print('Actual total distance: {}m'.format(-(solution.ObjectiveValue() - len(names) * shift)))\n",
    "else:\n",
    "    print(\"No solution found.\")"
   ]
  },
  {
   "cell_type": "markdown",
   "metadata": {},
   "source": [
    "# Larger Example"
   ]
  },
  {
   "cell_type": "code",
   "execution_count": 6,
   "metadata": {
    "scrolled": false
   },
   "outputs": [
    {
     "name": "stdout",
     "output_type": "stream",
     "text": [
      "Route for vehicle 0:\n",
      "New York > (875m) St. Louis > (547m) Dallas > (225m) Houston > (1017m) Phoenix > (357m) Los Angeles > (403m) San Francisco > (678m) Seattle > (701m) Salt Lake City > (371m) Denver > (700m) Minneapolis > (355m) Chicago > (851m) Boston > (213m) New York\n",
      "Total distance of vehicle 0: 7293 miles\n",
      "\n",
      "Route for vehicle 1:\n",
      "New York > (0m) New York\n",
      "Total distance of vehicle 1: 0 miles\n",
      "\n",
      "Route for vehicle 2:\n",
      "New York > (0m) New York\n",
      "Total distance of vehicle 2: 0 miles\n",
      "\n",
      "Total distance over all vehicles: 7293m\n"
     ]
    }
   ],
   "source": [
    "# Choose between small and large example with multiple vehicles\n",
    "example2 = large(vehicles=3)\n",
    "\n",
    "# Create routing model\n",
    "routing2 = pywrapcp.RoutingModel(example2.manager())\n",
    "\n",
    "# Turn distance function into callback\n",
    "callback2 = routing2.RegisterTransitCallback(example2.distance)\n",
    "\n",
    "# Register callback\n",
    "routing2.SetArcCostEvaluatorOfAllVehicles(callback2)\n",
    "\n",
    "solution2 = routing2.Solve()\n",
    "\n",
    "if solution2:\n",
    "    print_solution(example2.vehicles, example2.names, example2.manager(), routing2, solution2)\n",
    "else:\n",
    "    print(\"No solution found.\")"
   ]
  },
  {
   "cell_type": "markdown",
   "metadata": {},
   "source": [
    "# Example with Constraints on visited Cities"
   ]
  },
  {
   "cell_type": "code",
   "execution_count": 7,
   "metadata": {},
   "outputs": [
    {
     "name": "stdout",
     "output_type": "stream",
     "text": [
      "The current TSP instance has 13 cities.\n"
     ]
    }
   ],
   "source": [
    "# Large example with multiple vehicles\n",
    "example3 = large(vehicles=3)\n",
    "\n",
    "# Create routing model\n",
    "routing3 = pywrapcp.RoutingModel(example3.manager())\n",
    "\n",
    "# Turn distance function into callback\n",
    "callback3 = routing3.RegisterTransitCallback(example3.distance)\n",
    "\n",
    "# Register callback\n",
    "routing3.SetArcCostEvaluatorOfAllVehicles(callback3)\n",
    "\n",
    "print(f\"The current TSP instance has {example3.size()} cities.\")"
   ]
  },
  {
   "cell_type": "markdown",
   "metadata": {},
   "source": [
    "Add a new dimension that counts the number of visited cities per vehicle. Every transition counts +1."
   ]
  },
  {
   "cell_type": "code",
   "execution_count": 8,
   "metadata": {},
   "outputs": [],
   "source": [
    "routing3.AddConstantDimension(1, example3.size(), True, \"count\")\n",
    "count = routing3.GetDimensionOrDie(\"count\")"
   ]
  },
  {
   "cell_type": "markdown",
   "metadata": {},
   "source": [
    "#### No lazy vehicle constraint. Must visit at least one other city than depot."
   ]
  },
  {
   "cell_type": "code",
   "execution_count": 9,
   "metadata": {},
   "outputs": [],
   "source": [
    "for i in range(example3.vehicles):\n",
    "    routing3.solver().Add(count.CumulVar(routing3.End(i)) > 1)  "
   ]
  },
  {
   "cell_type": "markdown",
   "metadata": {},
   "source": [
    "#### No eager vehicle constraint. No vehicle must visit more than 5 cities."
   ]
  },
  {
   "cell_type": "code",
   "execution_count": 10,
   "metadata": {},
   "outputs": [],
   "source": [
    "for i in range(example3.vehicles):\n",
    "    routing3.solver().Add(count.CumulVar(routing3.End(i)) < 7)  "
   ]
  },
  {
   "cell_type": "markdown",
   "metadata": {},
   "source": [
    "#### City 2 and 4 (counting starts at 0) must NOT be visited by the same vehicle."
   ]
  },
  {
   "cell_type": "code",
   "execution_count": 11,
   "metadata": {},
   "outputs": [
    {
     "name": "stdout",
     "output_type": "stream",
     "text": [
      "Chicago and Denver must not be visited by the same vehicle\n"
     ]
    }
   ],
   "source": [
    "routing3.solver().Add(routing3.VehicleVar(2) != routing3.VehicleVar(4))\n",
    "\n",
    "print(f\"{example3.names[2]} and {example3.names[4]} must not be visited by the same vehicle\")"
   ]
  },
  {
   "cell_type": "markdown",
   "metadata": {},
   "source": [
    "#### City 1 must be visited before city 3 (not necessarily by the same vehicle)"
   ]
  },
  {
   "cell_type": "code",
   "execution_count": 12,
   "metadata": {},
   "outputs": [
    {
     "name": "stdout",
     "output_type": "stream",
     "text": [
      "Los Angeles must be visited before Minneapolis\n"
     ]
    }
   ],
   "source": [
    "routing3.solver().Add(count.CumulVar(1) < count.CumulVar(3))\n",
    "\n",
    "print(f\"{example3.names[1]} must be visited before {example3.names[3]}\")"
   ]
  },
  {
   "cell_type": "markdown",
   "metadata": {},
   "source": [
    "#### City 6 must be visited right after city 7 (not necessarily by the same vehicle)"
   ]
  },
  {
   "cell_type": "code",
   "execution_count": 13,
   "metadata": {},
   "outputs": [
    {
     "name": "stdout",
     "output_type": "stream",
     "text": [
      "Seattle must be visited right after Boston\n"
     ]
    }
   ],
   "source": [
    "routing3.solver().Add(count.CumulVar(7) + 1 == count.CumulVar(6))\n",
    "\n",
    "print(f\"{example3.names[6]} must be visited right after {example3.names[7]}\")"
   ]
  },
  {
   "cell_type": "code",
   "execution_count": 14,
   "metadata": {},
   "outputs": [
    {
     "name": "stdout",
     "output_type": "stream",
     "text": [
      "Route for vehicle 0:\n",
      "New York > (213m) Boston > (851m) Chicago > (713m) New York\n",
      "Total distance of vehicle 0: 1777 miles\n",
      "\n",
      "Route for vehicle 1:\n",
      "New York > (1420m) Houston > (225m) Dallas > (663m) Denver > (371m) Salt Lake City > (987m) Minneapolis > (1018m) New York\n",
      "Total distance of vehicle 1: 4684 miles\n",
      "\n",
      "Route for vehicle 2:\n",
      "New York > (2571m) San Francisco > (678m) Seattle > (959m) Los Angeles > (357m) Phoenix > (1272m) St. Louis > (875m) New York\n",
      "Total distance of vehicle 2: 6712 miles\n",
      "\n",
      "Total distance over all vehicles: 13173m\n"
     ]
    }
   ],
   "source": [
    "solution3 = routing3.Solve()\n",
    "\n",
    "if solution3:\n",
    "    print_solution(example3.vehicles, example3.names, example3.manager(), routing3, solution3)\n",
    "else:\n",
    "    print(\"No solution found.\")"
   ]
  },
  {
   "cell_type": "markdown",
   "metadata": {},
   "source": [
    "# Example with Capacities"
   ]
  },
  {
   "cell_type": "code",
   "execution_count": 15,
   "metadata": {},
   "outputs": [
    {
     "name": "stdout",
     "output_type": "stream",
     "text": [
      "Route for vehicle 0:\n",
      "New York > (2145m) Phoenix > (357m) Los Angeles > (831m) Denver > (1631m) New York\n",
      "Total distance of vehicle 0: 4964 miles\n",
      "\n",
      "Route for vehicle 1:\n",
      "New York > (875m) St. Louis > (547m) Dallas > (225m) Houston > (1420m) New York\n",
      "Total distance of vehicle 1: 3067 miles\n",
      "\n",
      "Route for vehicle 2:\n",
      "New York > (213m) Boston > (1123m) Minneapolis > (1395m) Seattle > (678m) San Francisco > (600m) Salt Lake City > (1972m) New York\n",
      "Total distance of vehicle 2: 5981 miles\n",
      "\n",
      "Route for vehicle 3:\n",
      "New York > (713m) Chicago > (713m) New York\n",
      "Total distance of vehicle 3: 1426 miles\n",
      "\n",
      "Total distance over all vehicles: 15438m\n"
     ]
    }
   ],
   "source": [
    "# Large example with multiple vehicles\n",
    "example4 = large(vehicles=4)\n",
    "\n",
    "# Create routing model\n",
    "routing4 = pywrapcp.RoutingModel(example4.manager())\n",
    "\n",
    "# Turn distance function into callback\n",
    "dist_callback4 = routing4.RegisterTransitCallback(example4.distance)\n",
    "\n",
    "# Register callback\n",
    "routing4.SetArcCostEvaluatorOfAllVehicles(dist_callback4)\n",
    "\n",
    "# Turn capacity function into callback\n",
    "demand_callback4 = routing4.RegisterUnaryTransitCallback(example4.demand)\n",
    "\n",
    "# Add capacity dimension\n",
    "routing4.AddDimensionWithVehicleCapacity(demand_callback4, 0, example4.capacities, True, \"capacity\")\n",
    "\n",
    "solution4 = routing4.Solve()\n",
    "\n",
    "if solution4:\n",
    "    print_solution(example4.vehicles, example4.names, example4.manager(), routing4, solution4)\n",
    "else:\n",
    "    print(\"No solution found.\")"
   ]
  },
  {
   "cell_type": "markdown",
   "metadata": {},
   "source": [
    "# Example with Manhattan Distance, Capacities and Path Visualization"
   ]
  },
  {
   "cell_type": "code",
   "execution_count": 16,
   "metadata": {},
   "outputs": [
    {
     "name": "stdout",
     "output_type": "stream",
     "text": [
      "Route for vehicle 0:\n",
      "0 > (6m) 1 > (2m) 4 > (1m) 3 > (5m) 7 > (2m) 0\n",
      "Total distance of vehicle 0: 16 miles\n",
      "\n",
      "Route for vehicle 1:\n",
      "0 > (4m) 13 > (4m) 15 > (3m) 11 > (1m) 12 > (4m) 0\n",
      "Total distance of vehicle 1: 16 miles\n",
      "\n",
      "Route for vehicle 2:\n",
      "0 > (3m) 8 > (5m) 2 > (3m) 6 > (2m) 5 > (3m) 0\n",
      "Total distance of vehicle 2: 16 miles\n",
      "\n",
      "Route for vehicle 3:\n",
      "0 > (2m) 9 > (3m) 14 > (2m) 16 > (4m) 10 > (5m) 0\n",
      "Total distance of vehicle 3: 16 miles\n",
      "\n",
      "Total distance over all vehicles: 64m\n"
     ]
    }
   ],
   "source": [
    "# Large example with multiple vehicles\n",
    "example5 = manhattan(vehicles=4)\n",
    "\n",
    "# the following code is identical to the one above\n",
    "\n",
    "# Create routing model\n",
    "routing5 = pywrapcp.RoutingModel(example5.manager())\n",
    "\n",
    "# Turn distance function into callback\n",
    "dist_callback5 = routing5.RegisterTransitCallback(example5.distance)\n",
    "\n",
    "# Register callback\n",
    "routing5.SetArcCostEvaluatorOfAllVehicles(dist_callback5)\n",
    "\n",
    "# Turn capacity function into callback\n",
    "demand_callback5 = routing5.RegisterUnaryTransitCallback(example5.demand)\n",
    "\n",
    "# Add capacity dimension\n",
    "routing5.AddDimensionWithVehicleCapacity(demand_callback5, 0, example5.capacities, True, \"capacity\")\n",
    "\n",
    "solution5 = routing5.Solve()\n",
    "\n",
    "if solution5:\n",
    "    print_solution(example5.vehicles, example5.names, example5.manager(), routing5, solution5)\n",
    "else:\n",
    "    print(\"No solution found.\")"
   ]
  },
  {
   "cell_type": "code",
   "execution_count": 17,
   "metadata": {},
   "outputs": [
    {
     "name": "stdout",
     "output_type": "stream",
     "text": [
      "Total distance: 64\n"
     ]
    },
    {
     "data": {
      "image/png": "[encoded data removed]",
      "text/plain": [
       "<Figure size 720x576 with 1 Axes>"
      ]
     },
     "metadata": {
      "needs_background": "light"
     },
     "output_type": "display_data"
    }
   ],
   "source": [
    "import networkx as nx\n",
    "from itertools import chain\n",
    "import matplotlib.pyplot as plt\n",
    "%matplotlib inline\n",
    "\n",
    "nodes = example5.nodes\n",
    "demands = example5.demands\n",
    "cities = example5.names\n",
    "\n",
    "def make_ax():\n",
    "    fig, ax = plt.subplots(figsize=(10,8))\n",
    "    ax.set_xlim(-1, 9)\n",
    "    ax.set_ylim(9, -1)\n",
    "    ax.set_xticks([0,1,2,3,4,5,6,7,8])\n",
    "    ax.set_yticks([8,7,6,5,4,3,2,1,0])\n",
    "    ax.xaxis.tick_top()\n",
    "    ax.grid()\n",
    "    return ax\n",
    "\n",
    "def plot_manhattan(all_nodes, tour_colors, graphs=None, all_demands=None):\n",
    "    ax = make_ax()\n",
    "\n",
    "    for graph, color in zip(graphs, tour_colors):\n",
    "        G = nx.DiGraph()\n",
    "        node_indices = list(set(chain.from_iterable(graph)))\n",
    "        nodes = [all_nodes[i] for i in node_indices]\n",
    "        demands = [all_demands[i] for i in node_indices]\n",
    "        pos = {k:v for k, v in zip(node_indices, nodes)}\n",
    "\n",
    "        G.add_nodes_from(pos.keys())\n",
    "        G.add_edges_from(graph)\n",
    "\n",
    "        color_list = ['black'] + [color] * (len(nodes)-1)\n",
    "        nx.draw_networkx_nodes(G, pos, ax=ax, node_size=400, node_color='white', edgecolors=color_list, linewidths=3)\n",
    "        nx.draw_networkx_edges(G, pos, ax=ax, arrows=True, arrowsize=20, width=2, edge_color=color)\n",
    "        labels = {k:f\"     {k}   {d}\" for k, d in zip(pos.keys(), demands)}\n",
    "        labels[0] = 0\n",
    "        nx.draw_networkx_labels(G, pos, labels=labels, ax=ax,\n",
    "                                font_color=color, font_size=10, font_weight='bold')\n",
    "    plt.show()\n",
    "\n",
    "if solution5:\n",
    "    graphs = []\n",
    "    print(f\"Total distance: {solution5.ObjectiveValue()}\")\n",
    "    for vehicle_id in range(routing5.vehicles()):\n",
    "        graph = []\n",
    "        index = routing5.Start(vehicle_id)  # index of the variable for the starting node\n",
    "        a = cities[example5.manager().IndexToNode(index)]\n",
    "        while not routing5.IsEnd(index):\n",
    "            index = solution5.Value(routing5.NextVar(index))\n",
    "            b = cities[example5.manager().IndexToNode(index)]\n",
    "            graph.append((a,b))\n",
    "            a = cities[example5.manager().IndexToNode(index)]\n",
    "        graph.append((a, 0))\n",
    "        graphs.append(graph)\n",
    "    plot_manhattan(nodes, tour_colors=['dodgerblue', 'limegreen', 'crimson', 'gold'], graphs=graphs, all_demands=demands)"
   ]
  }
 ],
 "metadata": {
  "jupytext": {
   "cell_metadata_filter": "-all",
   "encoding": "# -*- coding: utf-8 -*-",
   "main_language": "python",
   "notebook_metadata_filter": "-all",
   "text_representation": {
    "extension": ".py",
    "format_name": "percent"
   }
  },
  "kernelspec": {
   "display_name": "Python 3",
   "language": "python",
   "name": "python3"
  },
  "language_info": {
   "codemirror_mode": {
    "name": "ipython",
    "version": 3
   },
   "file_extension": ".py",
   "mimetype": "text/x-python",
   "name": "python",
   "nbconvert_exporter": "python",
   "pygments_lexer": "ipython3",
   "version": "3.6.10"
  }
 },
 "nbformat": 4,
 "nbformat_minor": 2
}
