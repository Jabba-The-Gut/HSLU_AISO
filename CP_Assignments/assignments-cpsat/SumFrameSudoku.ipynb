{
 "cells": [
  {
   "cell_type": "markdown",
   "metadata": {},
   "source": [
    "# Sum Frame Sudoku puzzle"
   ]
  },
  {
   "cell_type": "markdown",
   "metadata": {},
   "source": [
    "Fill in numbers from 1 to 9 so that each row, column and 3x3 block contains each number exactly once.\n",
    "Numbers in the outside frame equal the sum of the first three numbers in the corresponding row or column\n",
    "in the given direction.\n",
    "\n",
    "Find more examples [here](http://frame-sudoku.blogspot.com)"
   ]
  },
  {
   "cell_type": "markdown",
   "metadata": {},
   "source": [
    "Imports"
   ]
  },
  {
   "cell_type": "code",
   "execution_count": 1,
   "metadata": {
    "lines_to_next_cell": 1
   },
   "outputs": [],
   "source": [
    "from ortools.sat.python import cp_model\n",
    "from itertools import product\n",
    "import numpy as np"
   ]
  },
  {
   "cell_type": "markdown",
   "metadata": {},
   "source": [
    "Sudoku puzzle from slides"
   ]
  },
  {
   "cell_type": "code",
   "execution_count": 2,
   "metadata": {},
   "outputs": [],
   "source": [
    "top = [15, 18, 12, 11, 21, 13, 15, 17, 13]\n",
    "right = [22, 8, 15, 22, 12, 11, 15, 13, 17]\n",
    "bottom = [15, 9, 21, 10, 16, 19, 13, 15, 17]\n",
    "left = [8, 15, 22, 11, 13, 21, 18, 19, 8]\n",
    "n = 9"
   ]
  },
  {
   "cell_type": "markdown",
   "metadata": {},
   "source": [
    "And another example (commented out)"
   ]
  },
  {
   "cell_type": "code",
   "execution_count": 3,
   "metadata": {},
   "outputs": [],
   "source": [
    "# top = [21, 12, 12, 13, 14, 18, 10, 19, 16]\n",
    "# right = [20, 15, 10, 22, 8, 15, 17, 15, 13]\n",
    "# bottom = [17, 9, 19, 18, 13, 14, 23, 15, 7]\n",
    "# left = [12, 12, 21, 14, 14, 17, 14, 9, 22]"
   ]
  },
  {
   "cell_type": "markdown",
   "metadata": {},
   "source": [
    "Create model"
   ]
  },
  {
   "cell_type": "code",
   "execution_count": 4,
   "metadata": {},
   "outputs": [],
   "source": [
    "model = cp_model.CpModel()"
   ]
  },
  {
   "cell_type": "code",
   "execution_count": 2,
   "metadata": {},
   "outputs": [
    {
     "ename": "NameError",
     "evalue": "name 'n' is not defined",
     "output_type": "error",
     "traceback": [
      "\u001b[0;31m---------------------------------------------------------------------------\u001b[0m",
      "\u001b[0;31mNameError\u001b[0m                                 Traceback (most recent call last)",
      "\u001b[0;32m<ipython-input-2-f3b519ce8a64>\u001b[0m in \u001b[0;36m<module>\u001b[0;34m\u001b[0m\n\u001b[1;32m      1\u001b[0m \u001b[0;31m# create board\u001b[0m\u001b[0;34m\u001b[0m\u001b[0;34m\u001b[0m\u001b[0;34m\u001b[0m\u001b[0m\n\u001b[0;32m----> 2\u001b[0;31m \u001b[0mboard\u001b[0m \u001b[0;34m=\u001b[0m \u001b[0;34m[\u001b[0m\u001b[0;34m[\u001b[0m\u001b[0mmodel\u001b[0m\u001b[0;34m.\u001b[0m\u001b[0mNewIntVar\u001b[0m\u001b[0;34m(\u001b[0m\u001b[0;36m1\u001b[0m\u001b[0;34m,\u001b[0m \u001b[0mn\u001b[0m\u001b[0;34m,\u001b[0m \u001b[0;34mf\"({j})\"\u001b[0m\u001b[0;34m)\u001b[0m \u001b[0;32mfor\u001b[0m \u001b[0mj\u001b[0m \u001b[0;32min\u001b[0m \u001b[0mrange\u001b[0m\u001b[0;34m(\u001b[0m\u001b[0;36m1\u001b[0m\u001b[0;34m,\u001b[0m \u001b[0mn\u001b[0m\u001b[0;34m+\u001b[0m\u001b[0;36m1\u001b[0m\u001b[0;34m)\u001b[0m\u001b[0;34m]\u001b[0m \u001b[0;32mfor\u001b[0m \u001b[0mi\u001b[0m \u001b[0;32min\u001b[0m \u001b[0mrange\u001b[0m\u001b[0;34m(\u001b[0m\u001b[0;36m1\u001b[0m\u001b[0;34m,\u001b[0m\u001b[0mn\u001b[0m\u001b[0;34m+\u001b[0m\u001b[0;36m1\u001b[0m\u001b[0;34m)\u001b[0m\u001b[0;34m]\u001b[0m\u001b[0;34m\u001b[0m\u001b[0;34m\u001b[0m\u001b[0m\n\u001b[0m\u001b[1;32m      3\u001b[0m \u001b[0;34m\u001b[0m\u001b[0m\n\u001b[1;32m      4\u001b[0m \u001b[0;31m# the numbers occur only once in each row, each column or 3x3 square\u001b[0m\u001b[0;34m\u001b[0m\u001b[0;34m\u001b[0m\u001b[0;34m\u001b[0m\u001b[0m\n\u001b[1;32m      5\u001b[0m \u001b[0;32mfor\u001b[0m \u001b[0mi\u001b[0m \u001b[0;32min\u001b[0m \u001b[0mrange\u001b[0m\u001b[0;34m(\u001b[0m\u001b[0mn\u001b[0m\u001b[0;34m)\u001b[0m\u001b[0;34m:\u001b[0m\u001b[0;34m\u001b[0m\u001b[0;34m\u001b[0m\u001b[0m\n",
      "\u001b[0;31mNameError\u001b[0m: name 'n' is not defined"
     ]
    }
   ],
   "source": [
    "# create board\n",
    "board = [[model.NewIntVar(1, n, f\"({j})\") for j in range(1, n+1)] for i in range(1,n+1)]\n",
    "\n",
    "# the numbers occur only once in each row, each column or 3x3 square\n",
    "for i in range(n):\n",
    "    model.AddAllDifferent(board[i]) # rows\n",
    "    model.AddAllDifferent([board[j][i] for j in range(n)]) # columns\n",
    "    \n",
    "# Each 3x3 sub-grid contains all numbers from 1 to 9 once\n",
    "for i in range(3):\n",
    "    for j in range(3): \n",
    "        model.AddAllDifferent([board[i * 3 + di][j* 3 + dj] for di in range(3) for dj in range(3)])\n",
    "\n",
    "        \n",
    "for i in range(n):\n",
    "    model.Add(cp_model.LinearExpr.Sum([board[j][i] for j in range(3)]) == top[i]) # top sums\n",
    "    model.Add(cp_model.LinearExpr.Sum([board[i][j] for j in range(3)]) == left[i]) # left sums\n",
    "    model.Add(cp_model.LinearExpr.Sum([board[6][i],board[7][i],board[8][i]]) == bottom[i]) # bottom sums\n",
    "    model.Add(cp_model.LinearExpr.Sum([board[i][6],board[i][7],board[i][8]]) == right[i]) # right sums\n",
    "    \n"
   ]
  },
  {
   "cell_type": "markdown",
   "metadata": {},
   "source": [
    "Callback for solution printing (adapt if you do not use an n*n board)"
   ]
  },
  {
   "cell_type": "code",
   "execution_count": 6,
   "metadata": {},
   "outputs": [],
   "source": [
    "class SolutionPrinter(cp_model.CpSolverSolutionCallback):\n",
    "    \n",
    "    def __init__(self, variables):\n",
    "        cp_model.CpSolverSolutionCallback.__init__(self)\n",
    "        self.__variables = variables\n",
    "        \n",
    "    def on_solution_callback(self):\n",
    "        for i in range(len(self.__variables)):\n",
    "            for j in range(len(self.__variables)):\n",
    "                print(f\"[{self.Value(self.__variables[i][j])}] \", end='')\n",
    "            print(\"\\n\")\n",
    "        print(\"\\n\\n\")"
   ]
  },
  {
   "cell_type": "markdown",
   "metadata": {},
   "source": [
    "Solve and print all solutions"
   ]
  },
  {
   "cell_type": "code",
   "execution_count": 7,
   "metadata": {},
   "outputs": [
    {
     "name": "stdout",
     "output_type": "stream",
     "text": [
      "[1] [4] [3] [2] [8] [5] [9] [6] [7] \n",
      "\n",
      "[8] [5] [2] [6] [9] [7] [4] [3] [1] \n",
      "\n",
      "[6] [9] [7] [3] [4] [1] [2] [8] [5] \n",
      "\n",
      "[2] [3] [6] [7] [1] [4] [8] [5] [9] \n",
      "\n",
      "[4] [8] [1] [9] [5] [6] [3] [7] [2] \n",
      "\n",
      "[9] [7] [5] [8] [2] [3] [6] [1] [4] \n",
      "\n",
      "[7] [2] [9] [1] [3] [8] [5] [4] [6] \n",
      "\n",
      "[5] [6] [8] [4] [7] [2] [1] [9] [3] \n",
      "\n",
      "[3] [1] [4] [5] [6] [9] [7] [2] [8] \n",
      "\n",
      "\n",
      "\n",
      "\n"
     ]
    }
   ],
   "source": [
    "solver = cp_model.CpSolver()\n",
    "_ = solver.SearchForAllSolutions(model, SolutionPrinter(board))"
   ]
  },
  {
   "cell_type": "code",
   "execution_count": 8,
   "metadata": {},
   "outputs": [
    {
     "name": "stdout",
     "output_type": "stream",
     "text": [
      "Runtime:   0.025222ms\n",
      "Booleans:  26\n",
      "Failures:  99\n",
      "Branches:  176\n"
     ]
    }
   ],
   "source": [
    "print(f\"Runtime:   {solver.WallTime()}ms\")\n",
    "print(f\"Booleans:  {solver.NumBooleans()}\")\n",
    "print(f\"Failures:  {solver.NumConflicts()}\")\n",
    "print(f\"Branches:  {solver.NumBranches()}\")"
   ]
  },
  {
   "cell_type": "code",
   "execution_count": null,
   "metadata": {},
   "outputs": [],
   "source": []
  }
 ],
 "metadata": {
  "jupytext": {
   "cell_metadata_filter": "-all",
   "main_language": "python",
   "notebook_metadata_filter": "-all",
   "text_representation": {
    "extension": ".py",
    "format_name": "percent"
   }
  },
  "kernelspec": {
   "display_name": "Python 3",
   "language": "python",
   "name": "python3"
  },
  "language_info": {
   "codemirror_mode": {
    "name": "ipython",
    "version": 3
   },
   "file_extension": ".py",
   "mimetype": "text/x-python",
   "name": "python",
   "nbconvert_exporter": "python",
   "pygments_lexer": "ipython3",
   "version": "3.8.1"
  }
 },
 "nbformat": 4,
 "nbformat_minor": 2
}
