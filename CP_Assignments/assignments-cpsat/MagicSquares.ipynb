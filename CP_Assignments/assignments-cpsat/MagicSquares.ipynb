{
 "cells": [
  {
   "cell_type": "markdown",
   "metadata": {},
   "source": [
    "# Magic Square Puzzle"
   ]
  },
  {
   "cell_type": "markdown",
   "metadata": {},
   "source": [
    "Lucerne University of Applied Sciences and Arts - School of Information Technology\n",
    "\n",
    "A magic square is an arrangement of distinct integers in a square grid, such that the values in each row, in each\n",
    "column and in the two main diagonals all add up to the same number. If n denotes the number of cells,\n",
    "the values 1 to n are to be distributed."
   ]
  },
  {
   "cell_type": "markdown",
   "metadata": {},
   "source": [
    "Imports"
   ]
  },
  {
   "cell_type": "code",
   "execution_count": 35,
   "metadata": {
    "lines_to_next_cell": 1
   },
   "outputs": [],
   "source": [
    "from ortools.sat.python import cp_model\n",
    "from itertools import product\n",
    "import numpy as np"
   ]
  },
  {
   "cell_type": "markdown",
   "metadata": {},
   "source": [
    "Define magic square size"
   ]
  },
  {
   "cell_type": "code",
   "execution_count": 36,
   "metadata": {},
   "outputs": [
    {
     "name": "stdout",
     "output_type": "stream",
     "text": [
      "34\n"
     ]
    }
   ],
   "source": [
    "n = 4\n",
    "magic_constant = n * (n * n + 1) // 2\n",
    "print(magic_constant)"
   ]
  },
  {
   "cell_type": "markdown",
   "metadata": {},
   "source": [
    "Create model"
   ]
  },
  {
   "cell_type": "code",
   "execution_count": 37,
   "metadata": {},
   "outputs": [],
   "source": [
    "model = cp_model.CpModel()"
   ]
  },
  {
   "cell_type": "code",
   "execution_count": 38,
   "metadata": {},
   "outputs": [
    {
     "data": {
      "text/plain": [
       "<ortools.sat.python.cp_model.Constraint at 0x109f12af0>"
      ]
     },
     "execution_count": 38,
     "metadata": {},
     "output_type": "execute_result"
    }
   ],
   "source": [
    "# model (create a square of n * n cells containing values from 1 to n^2)\n",
    "board = [[model.NewIntVar(1, n*n, f\"({i}, {j})\") for j in range(1, n+1)] for i in range(1, n+1)]\n",
    "\n",
    "# all numbers must be different, hence a number can only be used once\n",
    "model.AddAllDifferent(list(np.concatenate(board)))\n",
    "    \n",
    "for i in range(n):\n",
    "    model.Add(cp_model.LinearExpr.Sum([board[i][j] for j in range(n)]) == magic_constant)  # rows\n",
    "    model.Add(cp_model.LinearExpr.Sum([board[j][i] for j in range(n)]) == magic_constant)  # columns\n",
    "\n",
    "# diagonal top left to bottom right\n",
    "model.Add(cp_model.LinearExpr.Sum([board[i][i] for i in range(n)]) == magic_constant)\n",
    "# diagonal top right to bottom left\n",
    "model.Add(cp_model.LinearExpr.Sum([board[i][n -1 - i] for i in range(n)]) == magic_constant)"
   ]
  },
  {
   "cell_type": "code",
   "execution_count": 39,
   "metadata": {},
   "outputs": [
    {
     "data": {
      "text/plain": [
       "<ortools.sat.python.cp_model.Constraint at 0x109f12910>"
      ]
     },
     "execution_count": 39,
     "metadata": {},
     "output_type": "execute_result"
    }
   ],
   "source": [
    "# add constraints for online excercise\n",
    "model.Add(board[0][0] == 9)\n",
    "model.Add(board[0][n-1] == 8)\n",
    "model.Add(board[n-1][0] == 6)\n",
    "model.Add(board[n-1][n-1] == 11)"
   ]
  },
  {
   "cell_type": "markdown",
   "metadata": {},
   "source": [
    "Callback for solution printing (adapt if you do not use an n*n board)"
   ]
  },
  {
   "cell_type": "code",
   "execution_count": 40,
   "metadata": {},
   "outputs": [],
   "source": [
    "class SolutionPrinter(cp_model.CpSolverSolutionCallback):\n",
    "    \n",
    "    def __init__(self, variables):\n",
    "        cp_model.CpSolverSolutionCallback.__init__(self)\n",
    "        self.__variables = variables\n",
    "        \n",
    "    def on_solution_callback(self):\n",
    "        for i in range(len(self.__variables)):\n",
    "            for j in range(len(self.__variables)):\n",
    "                print(f\"[{self.Value(self.__variables[i][j])}] \", end='')\n",
    "            print(\"\\n\")\n",
    "        print(\"\\n\\n\")"
   ]
  },
  {
   "cell_type": "markdown",
   "metadata": {},
   "source": [
    "Solve and print all solutions"
   ]
  },
  {
   "cell_type": "code",
   "execution_count": 41,
   "metadata": {},
   "outputs": [
    {
     "name": "stdout",
     "output_type": "stream",
     "text": [
      "[9] [16] [1] [8] \n",
      "\n",
      "[15] [2] [7] [10] \n",
      "\n",
      "[4] [13] [12] [5] \n",
      "\n",
      "[6] [3] [14] [11] \n",
      "\n",
      "\n",
      "\n",
      "\n",
      "[9] [16] [1] [8] \n",
      "\n",
      "[7] [10] [15] [2] \n",
      "\n",
      "[12] [5] [4] [13] \n",
      "\n",
      "[6] [3] [14] [11] \n",
      "\n",
      "\n",
      "\n",
      "\n",
      "[9] [14] [3] [8] \n",
      "\n",
      "[12] [4] [5] [13] \n",
      "\n",
      "[7] [15] [10] [2] \n",
      "\n",
      "[6] [1] [16] [11] \n",
      "\n",
      "\n",
      "\n",
      "\n",
      "[9] [1] [16] [8] \n",
      "\n",
      "[12] [4] [5] [13] \n",
      "\n",
      "[7] [15] [10] [2] \n",
      "\n",
      "[6] [14] [3] [11] \n",
      "\n",
      "\n",
      "\n",
      "\n",
      "[9] [15] [2] [8] \n",
      "\n",
      "[12] [1] [16] [5] \n",
      "\n",
      "[7] [4] [13] [10] \n",
      "\n",
      "[6] [14] [3] [11] \n",
      "\n",
      "\n",
      "\n",
      "\n",
      "[9] [15] [2] [8] \n",
      "\n",
      "[7] [1] [16] [10] \n",
      "\n",
      "[12] [4] [13] [5] \n",
      "\n",
      "[6] [14] [3] [11] \n",
      "\n",
      "\n",
      "\n",
      "\n",
      "[9] [14] [3] [8] \n",
      "\n",
      "[12] [1] [16] [5] \n",
      "\n",
      "[7] [4] [13] [10] \n",
      "\n",
      "[6] [15] [2] [11] \n",
      "\n",
      "\n",
      "\n",
      "\n",
      "[9] [14] [3] [8] \n",
      "\n",
      "[7] [1] [16] [10] \n",
      "\n",
      "[12] [4] [13] [5] \n",
      "\n",
      "[6] [15] [2] [11] \n",
      "\n",
      "\n",
      "\n",
      "\n",
      "[9] [3] [14] [8] \n",
      "\n",
      "[15] [2] [7] [10] \n",
      "\n",
      "[4] [13] [12] [5] \n",
      "\n",
      "[6] [16] [1] [11] \n",
      "\n",
      "\n",
      "\n",
      "\n",
      "[9] [3] [14] [8] \n",
      "\n",
      "[12] [13] [4] [5] \n",
      "\n",
      "[7] [16] [1] [10] \n",
      "\n",
      "[6] [2] [15] [11] \n",
      "\n",
      "\n",
      "\n",
      "\n",
      "[9] [3] [14] [8] \n",
      "\n",
      "[7] [13] [4] [10] \n",
      "\n",
      "[12] [16] [1] [5] \n",
      "\n",
      "[6] [2] [15] [11] \n",
      "\n",
      "\n",
      "\n",
      "\n",
      "[9] [3] [14] [8] \n",
      "\n",
      "[7] [10] [15] [2] \n",
      "\n",
      "[12] [5] [4] [13] \n",
      "\n",
      "[6] [16] [1] [11] \n",
      "\n",
      "\n",
      "\n",
      "\n",
      "[9] [2] [15] [8] \n",
      "\n",
      "[7] [13] [4] [10] \n",
      "\n",
      "[12] [16] [1] [5] \n",
      "\n",
      "[6] [3] [14] [11] \n",
      "\n",
      "\n",
      "\n",
      "\n",
      "[9] [14] [3] [8] \n",
      "\n",
      "[4] [12] [13] [5] \n",
      "\n",
      "[15] [7] [2] [10] \n",
      "\n",
      "[6] [1] [16] [11] \n",
      "\n",
      "\n",
      "\n",
      "\n",
      "[9] [2] [15] [8] \n",
      "\n",
      "[12] [13] [4] [5] \n",
      "\n",
      "[7] [16] [1] [10] \n",
      "\n",
      "[6] [3] [14] [11] \n",
      "\n",
      "\n",
      "\n",
      "\n",
      "[9] [1] [16] [8] \n",
      "\n",
      "[4] [12] [13] [5] \n",
      "\n",
      "[15] [7] [2] [10] \n",
      "\n",
      "[6] [14] [3] [11] \n",
      "\n",
      "\n",
      "\n",
      "\n"
     ]
    }
   ],
   "source": [
    "solver = cp_model.CpSolver()\n",
    "status = solver.SearchForAllSolutions(model, SolutionPrinter(board))"
   ]
  },
  {
   "cell_type": "code",
   "execution_count": 45,
   "metadata": {},
   "outputs": [
    {
     "name": "stdout",
     "output_type": "stream",
     "text": [
      "Branches:  CpSolverResponse:\n",
      "status: OPTIMAL\n",
      "objective: 0\n",
      "best_bound: 0\n",
      "booleans: 24\n",
      "conflicts: 47\n",
      "branches: 89\n",
      "propagations: 443\n",
      "integer_propagations: 2072\n",
      "walltime: 0.062759\n",
      "usertime: 0.062759\n",
      "deterministic_time: 0.000257711\n",
      "primal_integral: 0\n",
      "\n"
     ]
    }
   ],
   "source": [
    "print(f\"Branches:  {solver.ResponseStats()}\")"
   ]
  },
  {
   "cell_type": "code",
   "execution_count": null,
   "metadata": {},
   "outputs": [],
   "source": []
  }
 ],
 "metadata": {
  "jupytext": {
   "cell_metadata_filter": "-all",
   "main_language": "python",
   "notebook_metadata_filter": "-all",
   "text_representation": {
    "extension": ".py",
    "format_name": "percent"
   }
  },
  "kernelspec": {
   "display_name": "Python 3",
   "language": "python",
   "name": "python3"
  },
  "language_info": {
   "codemirror_mode": {
    "name": "ipython",
    "version": 3
   },
   "file_extension": ".py",
   "mimetype": "text/x-python",
   "name": "python",
   "nbconvert_exporter": "python",
   "pygments_lexer": "ipython3",
   "version": "3.8.1"
  }
 },
 "nbformat": 4,
 "nbformat_minor": 2
}
