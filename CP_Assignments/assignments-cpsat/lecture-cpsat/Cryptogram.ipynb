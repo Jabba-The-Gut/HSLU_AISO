{
 "cells": [
  {
   "cell_type": "markdown",
   "metadata": {},
   "source": [
    "# Cryptogram Example"
   ]
  },
  {
   "cell_type": "markdown",
   "metadata": {},
   "source": [
    "Lucerne University of Applied Sciences and Arts - School of Information Technology"
   ]
  },
  {
   "cell_type": "markdown",
   "metadata": {},
   "source": [
    "The characters {S, E, N ,D, M, O, R, Y} stand for digits between 0 and 9.\n",
    "Numbers are built from digits in the usual, positional notation.\n",
    "Repeated occurrence of the same character denote the same digit.\n",
    "Different characters must take different digits.\n",
    "Numbers must not start with a zero.\n",
    "The following equation must hold SEND + MORE = MONEY\n",
    "\n",
    "@author: Marc Pouly"
   ]
  },
  {
   "cell_type": "markdown",
   "metadata": {},
   "source": [
    "Imports"
   ]
  },
  {
   "cell_type": "code",
   "execution_count": 21,
   "metadata": {},
   "outputs": [],
   "source": [
    "from ortools.sat.python import cp_model"
   ]
  },
  {
   "cell_type": "markdown",
   "metadata": {},
   "source": [
    "Create constraint model"
   ]
  },
  {
   "cell_type": "code",
   "execution_count": 22,
   "metadata": {},
   "outputs": [],
   "source": [
    "model = cp_model.CpModel()"
   ]
  },
  {
   "cell_type": "markdown",
   "metadata": {},
   "source": [
    "One variable for each character"
   ]
  },
  {
   "cell_type": "code",
   "execution_count": 23,
   "metadata": {},
   "outputs": [],
   "source": [
    "S = model.NewIntVar(0, 9, 's')\n",
    "E = model.NewIntVar(0, 9, 'e')\n",
    "N = model.NewIntVar(0, 9, 'n')\n",
    "D = model.NewIntVar(0, 9, 'd')\n",
    "M = model.NewIntVar(0, 9, 'm')\n",
    "O = model.NewIntVar(0, 9, 'o')\n",
    "R = model.NewIntVar(0, 9, 'r')\n",
    "Y = model.NewIntVar(0, 9, 'y')\n",
    "\n",
    "all_vars = [S, E, N, D, M, O, R, Y]"
   ]
  },
  {
   "cell_type": "markdown",
   "metadata": {},
   "source": [
    "SEND + MORE == MONEY"
   ]
  },
  {
   "cell_type": "code",
   "execution_count": 24,
   "metadata": {},
   "outputs": [
    {
     "data": {
      "text/plain": [
       "<ortools.sat.python.cp_model.Constraint at 0x1097fa0b8>"
      ]
     },
     "execution_count": 24,
     "metadata": {},
     "output_type": "execute_result"
    }
   ],
   "source": [
    "send  = S * 1000 + E * 100 + N * 10 + D\n",
    "more  = M * 1000 + O * 100 + R * 10 + E\n",
    "money = M * 10000 + O * 1000 + N * 100 + E * 10 + Y\n",
    "\n",
    "model.Add(send + more == money)"
   ]
  },
  {
   "cell_type": "markdown",
   "metadata": {},
   "source": [
    "Leading characters must not be zero (it is also possible to integrate this constraint in the variable definition above)"
   ]
  },
  {
   "cell_type": "code",
   "execution_count": 25,
   "metadata": {},
   "outputs": [
    {
     "data": {
      "text/plain": [
       "<ortools.sat.python.cp_model.Constraint at 0x1097faac8>"
      ]
     },
     "execution_count": 25,
     "metadata": {},
     "output_type": "execute_result"
    }
   ],
   "source": [
    "model.Add(S != 0)\n",
    "model.Add(M != 0)"
   ]
  },
  {
   "cell_type": "markdown",
   "metadata": {},
   "source": [
    "All characters take different values"
   ]
  },
  {
   "cell_type": "code",
   "execution_count": 26,
   "metadata": {},
   "outputs": [],
   "source": [
    "model.AddAllDifferent(all_vars)"
   ]
  },
  {
   "cell_type": "markdown",
   "metadata": {},
   "source": [
    "Create solver and solve model"
   ]
  },
  {
   "cell_type": "code",
   "execution_count": 27,
   "metadata": {},
   "outputs": [
    {
     "name": "stdout",
     "output_type": "stream",
     "text": [
      "9000 + 1000 = 10000\n",
      "\n"
     ]
    }
   ],
   "source": [
    "solver = cp_model.CpSolver()\n",
    "status = solver.Solve(model)\n",
    "\n",
    "if status == cp_model.FEASIBLE:\n",
    "    print(f\"{solver.Value(send)} + {solver.Value(more)} = {solver.Value(money)}\\n\")"
   ]
  },
  {
   "cell_type": "markdown",
   "metadata": {},
   "source": [
    "Print solver information"
   ]
  },
  {
   "cell_type": "code",
   "execution_count": 28,
   "metadata": {},
   "outputs": [
    {
     "name": "stdout",
     "output_type": "stream",
     "text": [
      "Runtime:   0.0010890000000000001ms\n",
      "Booleans:  0\n",
      "Failures:  0\n",
      "Branches:  0 \n"
     ]
    }
   ],
   "source": [
    "print(f\"Runtime:   {solver.WallTime()}ms\")\n",
    "print(f\"Booleans:  {solver.NumBooleans()}\")\n",
    "print(f\"Failures:  {solver.NumConflicts()}\")\n",
    "print(f\"Branches:  {solver.NumBranches()} \")"
   ]
  },
  {
   "cell_type": "markdown",
   "metadata": {},
   "source": [
    "Callback for solution printing"
   ]
  },
  {
   "cell_type": "code",
   "execution_count": 29,
   "metadata": {},
   "outputs": [],
   "source": [
    "class SolutionPrinter(cp_model.CpSolverSolutionCallback):\n",
    "    \n",
    "    def __init__(self, variables):\n",
    "        cp_model.CpSolverSolutionCallback.__init__(self)\n",
    "        self.__counter = 1\n",
    "        self.__variables = variables\n",
    "        \n",
    "    def on_solution_callback(self):\n",
    "        print(self.__counter, [self.Value(v) for v in self.__variables])\n",
    "        self.__counter += 1"
   ]
  },
  {
   "cell_type": "markdown",
   "metadata": {},
   "source": [
    "Solve again and this time, print all solutions"
   ]
  },
  {
   "cell_type": "code",
   "execution_count": 30,
   "metadata": {},
   "outputs": [
    {
     "name": "stdout",
     "output_type": "stream",
     "text": [
      "1 [9000, 1000, 10000]\n",
      "2 [9010, 1090, 10100]\n",
      "3 [9110, 1001, 10111]\n",
      "4 [9120, 1091, 10211]\n",
      "5 [9220, 1002, 10222]\n",
      "6 [9230, 1092, 10322]\n",
      "7 [9330, 1003, 10333]\n",
      "8 [9340, 1093, 10433]\n",
      "9 [9440, 1004, 10444]\n",
      "10 [9450, 1094, 10544]\n",
      "11 [9550, 1005, 10555]\n",
      "12 [9560, 1095, 10655]\n",
      "13 [9660, 1006, 10666]\n",
      "14 [9670, 1096, 10766]\n",
      "15 [9770, 1007, 10777]\n",
      "16 [9780, 1097, 10877]\n",
      "17 [9880, 1008, 10888]\n",
      "18 [9890, 1098, 10988]\n",
      "19 [9990, 1009, 10999]\n",
      "20 [9891, 1098, 10989]\n",
      "21 [9892, 1088, 10980]\n",
      "22 [9881, 1008, 10889]\n",
      "23 [9893, 1088, 10981]\n",
      "24 [9894, 1088, 10982]\n",
      "25 [9895, 1088, 10983]\n",
      "26 [9896, 1088, 10984]\n",
      "27 [9897, 1088, 10985]\n",
      "28 [9898, 1088, 10986]\n",
      "29 [9899, 1088, 10987]\n",
      "30 [9789, 1087, 10876]\n",
      "31 [9788, 1087, 10875]\n",
      "32 [9787, 1087, 10874]\n",
      "33 [9786, 1087, 10873]\n",
      "34 [9785, 1087, 10872]\n",
      "35 [9784, 1087, 10871]\n",
      "36 [9783, 1087, 10870]\n",
      "37 [9782, 1097, 10879]\n",
      "38 [9781, 1097, 10878]\n",
      "39 [9771, 1007, 10778]\n",
      "40 [9772, 1007, 10779]\n",
      "41 [9672, 1096, 10768]\n",
      "42 [9673, 1096, 10769]\n",
      "43 [9671, 1096, 10767]\n",
      "44 [9674, 1086, 10760]\n",
      "45 [9675, 1086, 10761]\n",
      "46 [9676, 1086, 10762]\n",
      "47 [9677, 1086, 10763]\n",
      "48 [9678, 1086, 10764]\n",
      "49 [9679, 1086, 10765]\n",
      "50 [9663, 1006, 10669]\n",
      "51 [9662, 1006, 10668]\n",
      "52 [9661, 1006, 10667]\n",
      "53 [9561, 1095, 10656]\n",
      "54 [9551, 1005, 10556]\n",
      "55 [9451, 1094, 10545]\n",
      "56 [9441, 1004, 10445]\n",
      "57 [9442, 1004, 10446]\n",
      "58 [9452, 1094, 10546]\n",
      "59 [9552, 1005, 10557]\n",
      "60 [9562, 1095, 10657]\n",
      "61 [9563, 1095, 10658]\n",
      "62 [9553, 1005, 10558]\n",
      "63 [9453, 1094, 10547]\n",
      "64 [9443, 1004, 10447]\n",
      "65 [9444, 1004, 10448]\n",
      "66 [9454, 1094, 10548]\n",
      "67 [9554, 1005, 10559]\n",
      "68 [9564, 1095, 10659]\n",
      "69 [9565, 1085, 10650]\n",
      "70 [9455, 1094, 10549]\n",
      "71 [9445, 1004, 10449]\n",
      "72 [9456, 1084, 10540]\n",
      "73 [9566, 1085, 10651]\n",
      "74 [9567, 1085, 10652]\n",
      "75 [9457, 1084, 10541]\n",
      "76 [9458, 1084, 10542]\n",
      "77 [9568, 1085, 10653]\n",
      "78 [9569, 1085, 10654]\n",
      "79 [9459, 1084, 10543]\n",
      "80 [9349, 1083, 10432]\n",
      "81 [9348, 1083, 10431]\n",
      "82 [9347, 1083, 10430]\n",
      "83 [9346, 1093, 10439]\n",
      "84 [9345, 1093, 10438]\n",
      "85 [9344, 1093, 10437]\n",
      "86 [9343, 1093, 10436]\n",
      "87 [9342, 1093, 10435]\n",
      "88 [9341, 1093, 10434]\n",
      "89 [9331, 1003, 10334]\n",
      "90 [9231, 1092, 10323]\n",
      "91 [9221, 1002, 10223]\n",
      "92 [9121, 1091, 10212]\n",
      "93 [9111, 1001, 10112]\n",
      "94 [9011, 1090, 10101]\n",
      "95 [9001, 1000, 10001]\n",
      "96 [9002, 1000, 10002]\n",
      "97 [9012, 1090, 10102]\n",
      "98 [9112, 1001, 10113]\n",
      "99 [9122, 1091, 10213]\n",
      "100 [9222, 1002, 10224]\n",
      "101 [9232, 1092, 10324]\n",
      "102 [9332, 1003, 10335]\n",
      "103 [9333, 1003, 10336]\n",
      "104 [9233, 1092, 10325]\n",
      "105 [9223, 1002, 10225]\n",
      "106 [9224, 1002, 10226]\n",
      "107 [9234, 1092, 10326]\n",
      "108 [9334, 1003, 10337]\n",
      "109 [9335, 1003, 10338]\n",
      "110 [9235, 1092, 10327]\n",
      "111 [9225, 1002, 10227]\n",
      "112 [9226, 1002, 10228]\n",
      "113 [9236, 1092, 10328]\n",
      "114 [9336, 1003, 10339]\n",
      "115 [9237, 1092, 10329]\n",
      "116 [9238, 1082, 10320]\n",
      "117 [9227, 1002, 10229]\n",
      "118 [9239, 1082, 10321]\n",
      "119 [9129, 1081, 10210]\n",
      "120 [9128, 1091, 10219]\n",
      "121 [9127, 1091, 10218]\n",
      "122 [9126, 1091, 10217]\n",
      "123 [9125, 1091, 10216]\n",
      "124 [9124, 1091, 10215]\n",
      "125 [9123, 1091, 10214]\n",
      "126 [9113, 1001, 10114]\n",
      "127 [9114, 1001, 10115]\n",
      "128 [9115, 1001, 10116]\n",
      "129 [9116, 1001, 10117]\n",
      "130 [9016, 1090, 10106]\n",
      "131 [9015, 1090, 10105]\n",
      "132 [9014, 1090, 10104]\n",
      "133 [9013, 1090, 10103]\n",
      "134 [9003, 1000, 10003]\n",
      "135 [9004, 1000, 10004]\n",
      "136 [9005, 1000, 10005]\n",
      "137 [9006, 1000, 10006]\n",
      "138 [9007, 1000, 10007]\n",
      "139 [9017, 1090, 10107]\n",
      "140 [9117, 1001, 10118]\n",
      "141 [9118, 1001, 10119]\n",
      "142 [9018, 1090, 10108]\n",
      "143 [9008, 1000, 10008]\n",
      "144 [9009, 1000, 10009]\n",
      "145 [9019, 1090, 10109]\n",
      "146 [9909, 1189, 11098]\n",
      "147 [9908, 1189, 11097]\n",
      "148 [9907, 1189, 11096]\n",
      "149 [9906, 1189, 11095]\n",
      "150 [9905, 1189, 11094]\n",
      "151 [9904, 1189, 11093]\n",
      "152 [9903, 1189, 11092]\n",
      "153 [9902, 1189, 11091]\n",
      "154 [9901, 1189, 11090]\n",
      "155 [9900, 1199, 11099]\n"
     ]
    }
   ],
   "source": [
    "_ = solver.SearchForAllSolutions(model, SolutionPrinter([send, more, money]))"
   ]
  }
 ],
 "metadata": {
  "jupytext": {
   "cell_metadata_filter": "-all",
   "main_language": "python",
   "notebook_metadata_filter": "-all",
   "text_representation": {
    "extension": ".py",
    "format_name": "percent"
   }
  },
  "kernelspec": {
   "display_name": "Python 3",
   "language": "python",
   "name": "python3"
  },
  "language_info": {
   "codemirror_mode": {
    "name": "ipython",
    "version": 3
   },
   "file_extension": ".py",
   "mimetype": "text/x-python",
   "name": "python",
   "nbconvert_exporter": "python",
   "pygments_lexer": "ipython3",
   "version": "3.6.10"
  }
 },
 "nbformat": 4,
 "nbformat_minor": 2
}
