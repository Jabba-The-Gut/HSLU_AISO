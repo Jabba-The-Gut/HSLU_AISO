{
 "cells": [
  {
   "cell_type": "markdown",
   "metadata": {},
   "source": [
    "# Subset Sum and Knapsack Problem"
   ]
  },
  {
   "cell_type": "markdown",
   "metadata": {},
   "source": [
    "Lucerne University of Applied Sciences and Arts - School of Information Technology\n",
    "\n",
    "In the knapsack problem, you need to pack a set of items, with given values and sizes (such as weights or volumes), into a container with a maximum capacity. If the total size of the items exceeds the capacity, you can't pack them all. In that case, the problem is to choose a subset of the items of maximum total value that will fit in the container. Subset sum is a variant of the knapsack problem where items have constant values. If the binary variant of the knapsack problem each item can be selected only once.\n",
    "\n",
    "Text, code snippets and inspiration from [here](https://developers.google.com/optimization/bin/knapsack); more examples can be found [here](https://people.sc.fsu.edu/~jburkardt/datasets/knapsack_01/knapsack_01.html)\n",
    "\n",
    "@author: Tobias Mérinat and Marc Pouly"
   ]
  },
  {
   "cell_type": "markdown",
   "metadata": {},
   "source": [
    "Imports"
   ]
  },
  {
   "cell_type": "code",
   "execution_count": 1,
   "metadata": {},
   "outputs": [],
   "source": [
    "from ortools.sat.python import cp_model\n",
    "from ortools.algorithms import pywrapknapsack_solver"
   ]
  },
  {
   "cell_type": "markdown",
   "metadata": {},
   "source": [
    "### Select an example"
   ]
  },
  {
   "cell_type": "code",
   "execution_count": 2,
   "metadata": {},
   "outputs": [],
   "source": [
    "example = 'MEDIUM'\n",
    "\n",
    "if example == 'XKCD':\n",
    "    values   = [1, 1, 1, 1, 1, 1]\n",
    "    names    = ['Fruit', 'Fries', 'Salad', 'Wings', 'Sticks', 'Plate']\n",
    "    weights  = [215, 275, 335, 355, 420, 580]\n",
    "    capacity = 1505\n",
    "\n",
    "elif example == 'TINY':\n",
    "    values   = [15, 10, 7]\n",
    "    names    = [\"Whiskey\", \"Perfume\", \"Cigarettes\"]\n",
    "    weights  = [4, 3, 2]\n",
    "    capacity = 9\n",
    "    \n",
    "elif example == 'SMALL':\n",
    "    values   = [12, 8, 2, 15]\n",
    "    names    = [\"Whiskey\", \"Perfume\", \"Corned Beef\", \"Riffle\"]\n",
    "    weights  = [4, 3, 2, 6]\n",
    "    capacity = 29\n",
    "    \n",
    "elif example == 'MEDIUM':\n",
    "    values   = [135, 139, 149, 150, 156, 163, 173, 184, 192, 201, 210, 214, 221, 229, 240]\n",
    "    names    = [f\"Item {i}\" for i, _ in enumerate(values)]\n",
    "    weights  = [70, 73, 77, 80, 82, 87, 90, 94, 98, 106, 110, 113, 115, 118, 120]\n",
    "    capacity = 750\n",
    "    # Optimal profit for 0/1 variant: 1458\n",
    "    # Optimal profit for unrestricted variant: 1488\n",
    "    \n",
    "else:\n",
    "    print('Invalid data set identifies.')"
   ]
  },
  {
   "cell_type": "markdown",
   "metadata": {},
   "source": [
    "Choose whether to solve the 01 Knapsack problem (pick at most one of each items)"
   ]
  },
  {
   "cell_type": "code",
   "execution_count": 3,
   "metadata": {},
   "outputs": [],
   "source": [
    "binary_variant = True"
   ]
  },
  {
   "cell_type": "markdown",
   "metadata": {},
   "source": [
    "## Model 1: My own model"
   ]
  },
  {
   "cell_type": "markdown",
   "metadata": {},
   "source": [
    "Create constraint solver"
   ]
  },
  {
   "cell_type": "code",
   "execution_count": 4,
   "metadata": {},
   "outputs": [],
   "source": [
    "model = cp_model.CpModel()"
   ]
  },
  {
   "cell_type": "markdown",
   "metadata": {},
   "source": [
    "Configure variables (the number of times an item is chosen)"
   ]
  },
  {
   "cell_type": "code",
   "execution_count": 5,
   "metadata": {},
   "outputs": [],
   "source": [
    "if binary_variant:\n",
    "    choices = [model.NewBoolVar(str(i)) for i in weights]\n",
    "else:\n",
    "    choices = [model.NewIntVar(0, capacity, str(i)) for i in weights]\n",
    "    "
   ]
  },
  {
   "cell_type": "markdown",
   "metadata": {},
   "source": [
    "Total weight must not exceed capacity"
   ]
  },
  {
   "cell_type": "code",
   "execution_count": 6,
   "metadata": {},
   "outputs": [
    {
     "data": {
      "text/plain": [
       "<ortools.sat.python.cp_model.Constraint at 0x10f4bfcf8>"
      ]
     },
     "execution_count": 6,
     "metadata": {},
     "output_type": "execute_result"
    }
   ],
   "source": [
    "model.Add(cp_model.LinearExpr.ScalProd(choices, weights) <= capacity)"
   ]
  },
  {
   "cell_type": "markdown",
   "metadata": {},
   "source": [
    "Price objective (solver.Difference is not available in the Python wrapper)"
   ]
  },
  {
   "cell_type": "code",
   "execution_count": 7,
   "metadata": {},
   "outputs": [],
   "source": [
    "model.Maximize(cp_model.LinearExpr.ScalProd(choices, values))"
   ]
  },
  {
   "cell_type": "markdown",
   "metadata": {},
   "source": [
    "Configure solver"
   ]
  },
  {
   "cell_type": "code",
   "execution_count": 8,
   "metadata": {},
   "outputs": [
    {
     "name": "stdout",
     "output_type": "stream",
     "text": [
      "Optimal objective value: 1458\n",
      " - Item  0 with value 135 and weight  70 has been chosen 1 times\n",
      " - Item  1 with value 139 and weight  73 has been chosen 0 times\n",
      " - Item  2 with value 149 and weight  77 has been chosen 1 times\n",
      " - Item  3 with value 150 and weight  80 has been chosen 0 times\n",
      " - Item  4 with value 156 and weight  82 has been chosen 1 times\n",
      " - Item  5 with value 163 and weight  87 has been chosen 0 times\n",
      " - Item  6 with value 173 and weight  90 has been chosen 1 times\n",
      " - Item  7 with value 184 and weight  94 has been chosen 1 times\n",
      " - Item  8 with value 192 and weight  98 has been chosen 1 times\n",
      " - Item  9 with value 201 and weight 106 has been chosen 0 times\n",
      " - Item 10 with value 210 and weight 110 has been chosen 0 times\n",
      " - Item 11 with value 214 and weight 113 has been chosen 0 times\n",
      " - Item 12 with value 221 and weight 115 has been chosen 0 times\n",
      " - Item 13 with value 229 and weight 118 has been chosen 1 times\n",
      " - Item 14 with value 240 and weight 120 has been chosen 1 times\n"
     ]
    }
   ],
   "source": [
    "solver = cp_model.CpSolver()\n",
    "status = solver.Solve(model)\n",
    "\n",
    "if status == cp_model.OPTIMAL:\n",
    "    print(f\"Optimal objective value: {int(solver.ObjectiveValue())}\")\n",
    "    for i, choice in enumerate(choices):\n",
    "        print(f\" - Item {i:>2} with value {values[i]} and weight {weights[i]:>3} \"\n",
    "              f\"has been chosen {solver.Value(choice)} times\")\n",
    "    \n",
    "elif status == cp_model.INFEASIBLE:\n",
    "    print(\"The model is over-constrained.\")"
   ]
  },
  {
   "cell_type": "markdown",
   "metadata": {},
   "source": [
    "## Model 2: Built-in specialized Knapsack model (only 0-1 variant)"
   ]
  },
  {
   "cell_type": "code",
   "execution_count": 9,
   "metadata": {},
   "outputs": [],
   "source": [
    "if not binary_variant:\n",
    "    print('Built-in Knapsack solver can only solve 0-1 variant of Knapsack. Code below will crash.')"
   ]
  },
  {
   "cell_type": "code",
   "execution_count": 10,
   "metadata": {},
   "outputs": [],
   "source": [
    "solver = pywrapknapsack_solver.KnapsackSolver(pywrapknapsack_solver.KnapsackSolver.KNAPSACK_MULTIDIMENSION_BRANCH_AND_BOUND_SOLVER, '')"
   ]
  },
  {
   "cell_type": "code",
   "execution_count": 11,
   "metadata": {},
   "outputs": [
    {
     "name": "stdout",
     "output_type": "stream",
     "text": [
      "Optimal objective value: 1458\n",
      " - Item  0 with value 135 and weight  70 has been chosen 1 times\n",
      " - Item  1 with value 139 and weight  73 has been chosen 0 times\n",
      " - Item  2 with value 149 and weight  77 has been chosen 1 times\n",
      " - Item  3 with value 150 and weight  80 has been chosen 0 times\n",
      " - Item  4 with value 156 and weight  82 has been chosen 1 times\n",
      " - Item  5 with value 163 and weight  87 has been chosen 0 times\n",
      " - Item  6 with value 173 and weight  90 has been chosen 1 times\n",
      " - Item  7 with value 184 and weight  94 has been chosen 1 times\n",
      " - Item  8 with value 192 and weight  98 has been chosen 1 times\n",
      " - Item  9 with value 201 and weight 106 has been chosen 0 times\n",
      " - Item 10 with value 210 and weight 110 has been chosen 0 times\n",
      " - Item 11 with value 214 and weight 113 has been chosen 0 times\n",
      " - Item 12 with value 221 and weight 115 has been chosen 0 times\n",
      " - Item 13 with value 229 and weight 118 has been chosen 1 times\n",
      " - Item 14 with value 240 and weight 120 has been chosen 1 times\n"
     ]
    }
   ],
   "source": [
    "# Built-in model even accepts multiple container with individual capacities as well as contained specific weights\n",
    "# It therefore expects a weight matrix and a list of container capacities\n",
    "solver.Init(values, [weights], [capacity])\n",
    "\n",
    "# Calling the solver directly gives the optimal value\n",
    "best = solver.Solve()\n",
    "\n",
    "# Printing solutions: solver.BestSolutionContains(c) plays the role of our choices array in model 1\n",
    "print(f\"Optimal objective value: {best}\")\n",
    "\n",
    "for i, _ in enumerate(values):\n",
    "    print(f\" - Item {i:>2} with value {values[i]} and weight {weights[i]:>3} \"\n",
    "          f\"has been chosen {int(solver.BestSolutionContains(i))} times\")"
   ]
  }
 ],
 "metadata": {
  "jupytext": {
   "cell_metadata_filter": "-all",
   "main_language": "python",
   "notebook_metadata_filter": "-all",
   "text_representation": {
    "extension": ".py",
    "format_name": "percent"
   }
  },
  "kernelspec": {
   "display_name": "Python 3",
   "language": "python",
   "name": "python3"
  },
  "language_info": {
   "codemirror_mode": {
    "name": "ipython",
    "version": 3
   },
   "file_extension": ".py",
   "mimetype": "text/x-python",
   "name": "python",
   "nbconvert_exporter": "python",
   "pygments_lexer": "ipython3",
   "version": "3.6.10"
  }
 },
 "nbformat": 4,
 "nbformat_minor": 2
}
