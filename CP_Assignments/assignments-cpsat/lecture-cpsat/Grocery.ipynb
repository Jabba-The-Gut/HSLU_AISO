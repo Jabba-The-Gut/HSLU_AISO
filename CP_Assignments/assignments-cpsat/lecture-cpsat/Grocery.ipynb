{
 "cells": [
  {
   "cell_type": "markdown",
   "metadata": {},
   "source": [
    "# Grocery Store Example"
   ]
  },
  {
   "cell_type": "markdown",
   "metadata": {},
   "source": [
    "Lucerne University of Applied Sciences and Arts - School of Information Technology"
   ]
  },
  {
   "cell_type": "markdown",
   "metadata": {},
   "source": [
    "A kid goes into a grocery store and buys four items.\n",
    "The cashier charges `$7.11`, the kid pays and is about to leave when the cashier calls the kid back and says:\n",
    "\"Hold on, I multiplied the four items instead of adding them. I'll try again.\n",
    " Hah, with adding them the price still comes to `$7.11.`\"\n",
    "What were the prices of the four items?\n",
    "\n",
    "@author: Marc Pouly"
   ]
  },
  {
   "cell_type": "markdown",
   "metadata": {},
   "source": [
    "Imports"
   ]
  },
  {
   "cell_type": "code",
   "execution_count": 14,
   "metadata": {},
   "outputs": [],
   "source": [
    "from ortools.sat.python import cp_model"
   ]
  },
  {
   "cell_type": "markdown",
   "metadata": {},
   "source": [
    "Create constraint model"
   ]
  },
  {
   "cell_type": "code",
   "execution_count": 15,
   "metadata": {},
   "outputs": [],
   "source": [
    "model = cp_model.CpModel()"
   ]
  },
  {
   "cell_type": "markdown",
   "metadata": {},
   "source": [
    "One variable for each product"
   ]
  },
  {
   "cell_type": "code",
   "execution_count": 16,
   "metadata": {},
   "outputs": [],
   "source": [
    "p1 = model.NewIntVar(0, 711, 'p1')\n",
    "p2 = model.NewIntVar(0, 711, 'p2')\n",
    "p3 = model.NewIntVar(0, 711, 'p3')\n",
    "p4 = model.NewIntVar(0, 711, 'p4')"
   ]
  },
  {
   "cell_type": "markdown",
   "metadata": {},
   "source": [
    "Prices add up to 711"
   ]
  },
  {
   "cell_type": "code",
   "execution_count": 17,
   "metadata": {},
   "outputs": [],
   "source": [
    "_ = model.Add(p1 + p2 + p3 + p4 == 711)"
   ]
  },
  {
   "cell_type": "code",
   "execution_count": 18,
   "metadata": {},
   "outputs": [
    {
     "name": "stdout",
     "output_type": "stream",
     "text": [
      "Product 1: $0.00\n",
      "Product 2: $0.00\n",
      "Product 3: $0.00\n",
      "Product 4: $7.11\n"
     ]
    }
   ],
   "source": [
    "solver = cp_model.CpSolver()\n",
    "status = solver.Solve(model)\n",
    "\n",
    "if status == cp_model.FEASIBLE:\n",
    "    print(f\"Product 1: ${solver.Value(p1)/100:.2f}\")\n",
    "    print(f\"Product 2: ${solver.Value(p2)/100:.2f}\")\n",
    "    print(f\"Product 3: ${solver.Value(p3)/100:.2f}\")\n",
    "    print(f\"Product 4: ${solver.Value(p4)/100:.2f}\")"
   ]
  },
  {
   "cell_type": "code",
   "execution_count": 19,
   "metadata": {},
   "outputs": [
    {
     "data": {
      "text/plain": [
       "<ortools.sat.python.cp_model.Constraint at 0x105b295c0>"
      ]
     },
     "execution_count": 19,
     "metadata": {},
     "output_type": "execute_result"
    }
   ],
   "source": [
    "# This line would do the job ...\n",
    "# model.AddMultiplicationEquality(711 * 100 * 100 * 100, [p1, p2, p3, p4])\n",
    "# We get a kernel crash with or-tools version: 7.5.7466\n",
    "# Check failed: vars.size() == 2 (4 vs. 2) General int_prod not supported yet.\n",
    "# Google implemented this only for arrays of size 2.\n",
    "# Here is a quick and dirty work around:\n",
    "\n",
    "r1 = model.NewIntVar(0, 711 * 711, 'r1')\n",
    "model.AddMultiplicationEquality(r1, [p1, p2])\n",
    "\n",
    "r2 = model.NewIntVar(0, 711 * 711, 'r2')\n",
    "model.AddMultiplicationEquality(r2, [p3, p4])\n",
    "\n",
    "model.AddMultiplicationEquality(711 * 100 * 100 * 100, [r1, r2])"
   ]
  },
  {
   "cell_type": "markdown",
   "metadata": {},
   "source": [
    "#### Search a Single Solution with Customized Printing"
   ]
  },
  {
   "cell_type": "code",
   "execution_count": 20,
   "metadata": {},
   "outputs": [
    {
     "name": "stdout",
     "output_type": "stream",
     "text": [
      "Product 1: $1.25\n",
      "Product 2: $1.20\n",
      "Product 3: $3.16\n",
      "Product 4: $1.50\n"
     ]
    }
   ],
   "source": [
    "status = solver.Solve(model)\n",
    "\n",
    "if status == cp_model.FEASIBLE:\n",
    "    print(f\"Product 1: ${solver.Value(p1)/100:.2f}\")\n",
    "    print(f\"Product 2: ${solver.Value(p2)/100:.2f}\")\n",
    "    print(f\"Product 3: ${solver.Value(p3)/100:.2f}\")\n",
    "    print(f\"Product 4: ${solver.Value(p4)/100:.2f}\")"
   ]
  },
  {
   "cell_type": "markdown",
   "metadata": {},
   "source": [
    "#### Search a Single Solution with Default Printing"
   ]
  },
  {
   "cell_type": "code",
   "execution_count": 21,
   "metadata": {},
   "outputs": [
    {
     "name": "stdout",
     "output_type": "stream",
     "text": [
      "Solution 0, time = 0.69 s\n",
      "  p1 = 125   p2 = 120   p3 = 316   p4 = 150 \n"
     ]
    }
   ],
   "source": [
    "callback = cp_model.VarArraySolutionPrinter([p1, p2, p3, p4])\n",
    "status   = solver.SolveWithSolutionCallback(model, callback)"
   ]
  },
  {
   "cell_type": "markdown",
   "metadata": {},
   "source": [
    "#### Search all Solutions with Default Printing"
   ]
  },
  {
   "cell_type": "code",
   "execution_count": 22,
   "metadata": {},
   "outputs": [
    {
     "name": "stdout",
     "output_type": "stream",
     "text": [
      "Solution 0, time = 0.83 s\n",
      "  p1 = 125   p2 = 120   p3 = 316   p4 = 150 \n",
      "Solution 1, time = 0.85 s\n",
      "  p1 = 120   p2 = 125   p3 = 316   p4 = 150 \n",
      "Solution 2, time = 0.85 s\n",
      "  p1 = 120   p2 = 125   p3 = 150   p4 = 316 \n",
      "Solution 3, time = 0.85 s\n",
      "  p1 = 150   p2 = 125   p3 = 316   p4 = 120 \n",
      "Solution 4, time = 0.86 s\n",
      "  p1 = 125   p2 = 120   p3 = 150   p4 = 316 \n",
      "Solution 5, time = 0.86 s\n",
      "  p1 = 150   p2 = 120   p3 = 316   p4 = 125 \n",
      "Solution 6, time = 0.87 s\n",
      "  p1 = 150   p2 = 120   p3 = 125   p4 = 316 \n",
      "Solution 7, time = 0.87 s\n",
      "  p1 = 316   p2 = 120   p3 = 150   p4 = 125 \n",
      "Solution 8, time = 0.87 s\n",
      "  p1 = 316   p2 = 120   p3 = 125   p4 = 150 \n",
      "Solution 9, time = 0.88 s\n",
      "  p1 = 150   p2 = 125   p3 = 120   p4 = 316 \n",
      "Solution 10, time = 0.95 s\n",
      "  p1 = 125   p2 = 150   p3 = 316   p4 = 120 \n",
      "Solution 11, time = 0.97 s\n",
      "  p1 = 316   p2 = 125   p3 = 150   p4 = 120 \n",
      "Solution 12, time = 0.99 s\n",
      "  p1 = 316   p2 = 125   p3 = 120   p4 = 150 \n",
      "Solution 13, time = 1.02 s\n",
      "  p1 = 120   p2 = 150   p3 = 125   p4 = 316 \n",
      "Solution 14, time = 1.17 s\n",
      "  p1 = 120   p2 = 150   p3 = 316   p4 = 125 \n",
      "Solution 15, time = 1.17 s\n",
      "  p1 = 125   p2 = 150   p3 = 120   p4 = 316 \n",
      "Solution 16, time = 1.20 s\n",
      "  p1 = 316   p2 = 150   p3 = 120   p4 = 125 \n",
      "Solution 17, time = 1.20 s\n",
      "  p1 = 316   p2 = 150   p3 = 125   p4 = 120 \n",
      "Solution 18, time = 1.34 s\n",
      "  p1 = 125   p2 = 316   p3 = 120   p4 = 150 \n",
      "Solution 19, time = 1.43 s\n",
      "  p1 = 120   p2 = 316   p3 = 150   p4 = 125 \n",
      "Solution 20, time = 1.43 s\n",
      "  p1 = 120   p2 = 316   p3 = 125   p4 = 150 \n",
      "Solution 21, time = 1.49 s\n",
      "  p1 = 125   p2 = 316   p3 = 150   p4 = 120 \n",
      "Solution 22, time = 1.70 s\n",
      "  p1 = 150   p2 = 316   p3 = 125   p4 = 120 \n",
      "Solution 23, time = 1.70 s\n",
      "  p1 = 150   p2 = 316   p3 = 120   p4 = 125 \n"
     ]
    }
   ],
   "source": [
    "callback = cp_model.VarArraySolutionPrinter([p1, p2, p3, p4])\n",
    "status   = solver.SearchForAllSolutions(model, callback)"
   ]
  },
  {
   "cell_type": "markdown",
   "metadata": {},
   "source": [
    "#### Search all Solutions with Customized Printing"
   ]
  },
  {
   "cell_type": "code",
   "execution_count": 23,
   "metadata": {
    "scrolled": false
   },
   "outputs": [
    {
     "name": "stdout",
     "output_type": "stream",
     "text": [
      "Product 1: $1.25\n",
      "Product 2: $1.20\n",
      "Product 3: $3.16\n",
      "Product 4: $1.50\n",
      "\n",
      "Product 1: $1.20\n",
      "Product 2: $1.25\n",
      "Product 3: $3.16\n",
      "Product 4: $1.50\n",
      "\n",
      "Product 1: $1.20\n",
      "Product 2: $1.25\n",
      "Product 3: $1.50\n",
      "Product 4: $3.16\n",
      "\n",
      "Product 1: $1.50\n",
      "Product 2: $1.25\n",
      "Product 3: $3.16\n",
      "Product 4: $1.20\n",
      "\n",
      "Product 1: $1.25\n",
      "Product 2: $1.20\n",
      "Product 3: $1.50\n",
      "Product 4: $3.16\n",
      "\n",
      "Product 1: $1.50\n",
      "Product 2: $1.20\n",
      "Product 3: $3.16\n",
      "Product 4: $1.25\n",
      "\n",
      "Product 1: $1.50\n",
      "Product 2: $1.20\n",
      "Product 3: $1.25\n",
      "Product 4: $3.16\n",
      "\n",
      "Product 1: $3.16\n",
      "Product 2: $1.20\n",
      "Product 3: $1.50\n",
      "Product 4: $1.25\n",
      "\n",
      "Product 1: $3.16\n",
      "Product 2: $1.20\n",
      "Product 3: $1.25\n",
      "Product 4: $1.50\n",
      "\n",
      "Product 1: $1.50\n",
      "Product 2: $1.25\n",
      "Product 3: $1.20\n",
      "Product 4: $3.16\n",
      "\n",
      "Product 1: $1.25\n",
      "Product 2: $1.50\n",
      "Product 3: $3.16\n",
      "Product 4: $1.20\n",
      "\n",
      "Product 1: $3.16\n",
      "Product 2: $1.25\n",
      "Product 3: $1.50\n",
      "Product 4: $1.20\n",
      "\n",
      "Product 1: $3.16\n",
      "Product 2: $1.25\n",
      "Product 3: $1.20\n",
      "Product 4: $1.50\n",
      "\n",
      "Product 1: $1.20\n",
      "Product 2: $1.50\n",
      "Product 3: $1.25\n",
      "Product 4: $3.16\n",
      "\n",
      "Product 1: $1.20\n",
      "Product 2: $1.50\n",
      "Product 3: $3.16\n",
      "Product 4: $1.25\n",
      "\n",
      "Product 1: $1.25\n",
      "Product 2: $1.50\n",
      "Product 3: $1.20\n",
      "Product 4: $3.16\n",
      "\n",
      "Product 1: $3.16\n",
      "Product 2: $1.50\n",
      "Product 3: $1.20\n",
      "Product 4: $1.25\n",
      "\n",
      "Product 1: $3.16\n",
      "Product 2: $1.50\n",
      "Product 3: $1.25\n",
      "Product 4: $1.20\n",
      "\n",
      "Product 1: $1.25\n",
      "Product 2: $3.16\n",
      "Product 3: $1.20\n",
      "Product 4: $1.50\n",
      "\n",
      "Product 1: $1.20\n",
      "Product 2: $3.16\n",
      "Product 3: $1.50\n",
      "Product 4: $1.25\n",
      "\n",
      "Product 1: $1.20\n",
      "Product 2: $3.16\n",
      "Product 3: $1.25\n",
      "Product 4: $1.50\n",
      "\n",
      "Product 1: $1.25\n",
      "Product 2: $3.16\n",
      "Product 3: $1.50\n",
      "Product 4: $1.20\n",
      "\n",
      "Product 1: $1.50\n",
      "Product 2: $3.16\n",
      "Product 3: $1.25\n",
      "Product 4: $1.20\n",
      "\n",
      "Product 1: $1.50\n",
      "Product 2: $3.16\n",
      "Product 3: $1.20\n",
      "Product 4: $1.25\n",
      "\n"
     ]
    }
   ],
   "source": [
    "class MySolutionPrinter(cp_model.CpSolverSolutionCallback):\n",
    "    \n",
    "    def __init__(self, variables):\n",
    "        cp_model.CpSolverSolutionCallback.__init__(self)\n",
    "        self.__variables = variables\n",
    "        \n",
    "    def on_solution_callback(self):\n",
    "        print(f\"Product 1: ${self.Value(self.__variables[0])/100:.2f}\")\n",
    "        print(f\"Product 2: ${self.Value(self.__variables[1])/100:.2f}\")\n",
    "        print(f\"Product 3: ${self.Value(self.__variables[2])/100:.2f}\")\n",
    "        print(f\"Product 4: ${self.Value(self.__variables[3])/100:.2f}\\n\")\n",
    "        \n",
    "\n",
    "callback = MySolutionPrinter([p1, p2, p3, p4])\n",
    "status   = solver.SearchForAllSolutions(model, callback)"
   ]
  },
  {
   "cell_type": "markdown",
   "metadata": {},
   "source": [
    "#### Symmetry Breaking Constraint"
   ]
  },
  {
   "cell_type": "code",
   "execution_count": 24,
   "metadata": {},
   "outputs": [
    {
     "name": "stdout",
     "output_type": "stream",
     "text": [
      "Product 1: $1.20\n",
      "Product 2: $1.25\n",
      "Product 3: $1.50\n",
      "Product 4: $3.16\n",
      "\n"
     ]
    }
   ],
   "source": [
    "model.Add(p1 <= p2)\n",
    "model.Add(p2 <= p3)\n",
    "model.Add(p3 <= p4)\n",
    "\n",
    "status = solver.SearchForAllSolutions(model, callback)"
   ]
  },
  {
   "cell_type": "code",
   "execution_count": null,
   "metadata": {},
   "outputs": [],
   "source": []
  }
 ],
 "metadata": {
  "jupytext": {
   "cell_metadata_filter": "-all",
   "main_language": "python",
   "notebook_metadata_filter": "-all",
   "text_representation": {
    "extension": ".py",
    "format_name": "percent"
   }
  },
  "kernelspec": {
   "display_name": "Python 3",
   "language": "python",
   "name": "python3"
  },
  "language_info": {
   "codemirror_mode": {
    "name": "ipython",
    "version": 3
   },
   "file_extension": ".py",
   "mimetype": "text/x-python",
   "name": "python",
   "nbconvert_exporter": "python",
   "pygments_lexer": "ipython3",
   "version": "3.6.10"
  }
 },
 "nbformat": 4,
 "nbformat_minor": 2
}
