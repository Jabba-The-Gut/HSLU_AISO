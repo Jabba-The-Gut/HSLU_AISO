{
 "cells": [
  {
   "cell_type": "markdown",
   "metadata": {},
   "source": [
    "# Nurse Scheduling Problem"
   ]
  },
  {
   "cell_type": "markdown",
   "metadata": {},
   "source": [
    "Lucerne University of Applied Sciences and Arts - School of Information Technology\n",
    "\n",
    "A hospital supervisor needs to create a weekly schedule for 4 nurses:\n",
    "* Each day is divided into three 8-hour shifts\n",
    "* A nurse must not work two shifts on the same day\n",
    "* Each nurse works five or six days a week\n",
    "* No shift is staffed by more than two different nurses in a week\n",
    "* If a nurse works shifts 2 or 3 on a given day, (s)he must also work the same shift either the previous day or the following day (does not apply to holidays)\n",
    "\n",
    "\n",
    "@author: Marc Pouly and Tobias Mérinat"
   ]
  },
  {
   "cell_type": "code",
   "execution_count": 10,
   "metadata": {
    "lines_to_next_cell": 1
   },
   "outputs": [],
   "source": [
    "from ortools.sat.python import cp_model"
   ]
  },
  {
   "cell_type": "markdown",
   "metadata": {},
   "source": [
    "Nurse Schedule Problem from lecture"
   ]
  },
  {
   "cell_type": "code",
   "execution_count": 11,
   "metadata": {},
   "outputs": [],
   "source": [
    "# 4 nurses\n",
    "num_nurses = 4\n",
    "# 7 days a week\n",
    "num_days = 7\n",
    "# 4 shifts (holiday_shift = 0, day_shift = 1, late_shift = 2, night_shift = 3)\n",
    "num_shifts = 4"
   ]
  },
  {
   "cell_type": "markdown",
   "metadata": {},
   "source": [
    "Create constraint solver"
   ]
  },
  {
   "cell_type": "code",
   "execution_count": 12,
   "metadata": {},
   "outputs": [],
   "source": [
    "model = cp_model.CpModel()"
   ]
  },
  {
   "cell_type": "code",
   "execution_count": 13,
   "metadata": {},
   "outputs": [
    {
     "name": "stdout",
     "output_type": "stream",
     "text": [
      "Shifts = 4, Days = 7, Nurses = 4\n"
     ]
    }
   ],
   "source": [
    "# Matrix of Boolean decision variables: NURSES x DAYS x SHIFTS\n",
    "# schedule[s][d][n] = 1 means nurse n works on day d in shift s \n",
    "\n",
    "schedule = [[[model.NewBoolVar(f\"({_n},{_d},{_s})\") \n",
    "              for _n in range(num_nurses)] \n",
    "              for _d in range(num_days)] \n",
    "              for _s in range(num_shifts)]\n",
    "\n",
    "print(f\"Shifts = {len(schedule)}, Days = {len(schedule[0])}, Nurses = {len(schedule[0][0])}\")"
   ]
  },
  {
   "cell_type": "code",
   "execution_count": 14,
   "metadata": {},
   "outputs": [],
   "source": [
    "# Every shift must have exactly one nurse assigned on each day\n",
    "\n",
    "for s in range(num_shifts):\n",
    "    for d in range(num_days):\n",
    "        # Day and shift being fixed, the number of nurses must be exactly 1\n",
    "        model.Add(sum([schedule[s][d][n] for n in range(num_nurses)]) == 1)"
   ]
  },
  {
   "cell_type": "code",
   "execution_count": 15,
   "metadata": {},
   "outputs": [],
   "source": [
    "# A nurse must not work two shifts on the same day\n",
    "\n",
    "for n in range(num_nurses):\n",
    "    for d in range(num_days):\n",
    "        # Nurse and day being fixed, the number of shifts can be at most 1\n",
    "        model.Add(sum([schedule[s][d][n] for s in range(num_shifts)]) < 2)"
   ]
  },
  {
   "cell_type": "code",
   "execution_count": 16,
   "metadata": {},
   "outputs": [],
   "source": [
    "# Each nurse has one or two days off\n",
    "\n",
    "for n in range(num_nurses):\n",
    "    # Nurse and shift = 0 (holidays) being fixed, the number of days is either 1 or 2\n",
    "    num_days_off = sum([schedule[0][d][n] for d in range(num_days)])\n",
    "    model.Add(num_days_off > 0)\n",
    "    model.Add(num_days_off < 3)"
   ]
  },
  {
   "cell_type": "code",
   "execution_count": 17,
   "metadata": {},
   "outputs": [],
   "source": [
    "# Each shift except shift 0 is staffed by at most two nurses per week\n",
    "\n",
    "for s in range(1, num_shifts):\n",
    "    # Shift being fixed, memorize whether a nurse works in this shift\n",
    "    does_work = [model.NewBoolVar('') for _n in range(num_nurses)]\n",
    "    # make sure does_work respects given rules:\n",
    "    for n in range(num_nurses):\n",
    "        # Count the number of days the current nurse works in the current shift\n",
    "        var = sum([schedule[s][d][n] for d in range(num_days)])\n",
    "        # If nurse works in current shift, set variable to true\n",
    "        model.Add(var > 0).OnlyEnforceIf(does_work[n])\n",
    "        # If nurse does not work in current shift, set variable to false\n",
    "        model.Add(var == 0).OnlyEnforceIf(does_work[n].Not())    \n",
    "    # The number of nurses who work in current shift must be 2\n",
    "    model.Add(sum(does_work) <= 2)     "
   ]
  },
  {
   "cell_type": "code",
   "execution_count": 18,
   "metadata": {},
   "outputs": [],
   "source": [
    "# For shift 2 and 3\n",
    "for s in [2,3]:\n",
    "    for n in range(num_nurses):\n",
    "        for d in range(num_days):\n",
    "            # Does current nurse work either the day before or after?\n",
    "            before_or_after = model.NewBoolVar('')\n",
    "            model.AddMaxEquality(before_or_after, [schedule[s][(d-1) % num_days][n], schedule[s][(d+1) % num_days][n]])\n",
    "            # When current nurse works on current day, (s)he must work either day before or after\n",
    "            model.Add(before_or_after == 1).OnlyEnforceIf(schedule[s][d][n])"
   ]
  },
  {
   "cell_type": "code",
   "execution_count": 19,
   "metadata": {},
   "outputs": [],
   "source": [
    "class MaxNSolutionPrinter(cp_model.CpSolverSolutionCallback):\n",
    "        \n",
    "    def __init__(self, nb_sol, variables):\n",
    "        cp_model.CpSolverSolutionCallback.__init__(self)\n",
    "        self.__variables = variables\n",
    "        self.__nb_sol = nb_sol\n",
    "        self.__counter = 0\n",
    "        \n",
    "    def on_solution_callback(self):\n",
    "        self.__counter += 1\n",
    "        if self.__counter <= self.__nb_sol:\n",
    "            self.pretty_print(self.__variables)\n",
    "            \n",
    "    def solution_count(self):\n",
    "        return self.__counter\n",
    "            \n",
    "    def pretty_print(self, schedule):\n",
    "        mapper1 = {0: 'A', 1: 'B', 2: 'C', 3: 'D'}\n",
    "        mapper2 = {0: 'H  |', 1: 'S1 |', 2: 'S2 |', 3: 'S3 |'}\n",
    "        print(\"SHIFT | M T W T F S S\")\n",
    "        print(\"---------------------\")\n",
    "        for s in range(num_shifts):\n",
    "            print(f\"   {mapper2[s]} \", end = '')\n",
    "            for d in range(num_days):\n",
    "                for n in range(num_nurses):\n",
    "                    if self.Value(schedule[s][d][n]) == 1:\n",
    "                        print(f\"{mapper1[n]} \", end = '')\n",
    "            print(\"\")\n",
    "        print(\"\\n\")  "
   ]
  },
  {
   "cell_type": "code",
   "execution_count": 20,
   "metadata": {
    "scrolled": false
   },
   "outputs": [
    {
     "name": "stdout",
     "output_type": "stream",
     "text": [
      "SHIFT | M T W T F S S\n",
      "---------------------\n",
      "   H  | C A A B D B C \n",
      "   S1 | D D D D B D D \n",
      "   S2 | B C C C C C B \n",
      "   S3 | A B B A A A A \n",
      "\n",
      "\n",
      "SHIFT | M T W T F S S\n",
      "---------------------\n",
      "   H  | B A A B D C C \n",
      "   S1 | D D D D B D D \n",
      "   S2 | C C C C C B B \n",
      "   S3 | A B B A A A A \n",
      "\n",
      "\n",
      "SHIFT | M T W T F S S\n",
      "---------------------\n",
      "   H  | A A B B D D C \n",
      "   S1 | D D D D C C D \n",
      "   S2 | C C C C B B B \n",
      "   S3 | B B A A A A A \n",
      "\n",
      "\n",
      "Statistics\n",
      " - Conflicts: \t15444\n",
      " - Branches: \t282396\n",
      " - Walltime: \t8.47s\n",
      " - Solutions: \t18144\n"
     ]
    }
   ],
   "source": [
    "solver = cp_model.CpSolver()\n",
    "callback = MaxNSolutionPrinter(3, schedule)\n",
    "status = solver.SearchForAllSolutions(model, callback)\n",
    "\n",
    "print(\"Statistics\")\n",
    "print(f\" - Conflicts: \\t{solver.NumConflicts()}\")\n",
    "print(f\" - Branches: \\t{solver.NumBranches()}\")\n",
    "print(f\" - Walltime: \\t{solver.WallTime():.2f}s\")\n",
    "print(f\" - Solutions: \\t{callback.solution_count()}\")"
   ]
  }
 ],
 "metadata": {
  "jupytext": {
   "cell_metadata_filter": "-all",
   "main_language": "python",
   "notebook_metadata_filter": "-all",
   "text_representation": {
    "extension": ".py",
    "format_name": "percent"
   }
  },
  "kernelspec": {
   "display_name": "Python 3",
   "language": "python",
   "name": "python3"
  },
  "language_info": {
   "codemirror_mode": {
    "name": "ipython",
    "version": 3
   },
   "file_extension": ".py",
   "mimetype": "text/x-python",
   "name": "python",
   "nbconvert_exporter": "python",
   "pygments_lexer": "ipython3",
   "version": "3.6.10"
  }
 },
 "nbformat": 4,
 "nbformat_minor": 2
}
