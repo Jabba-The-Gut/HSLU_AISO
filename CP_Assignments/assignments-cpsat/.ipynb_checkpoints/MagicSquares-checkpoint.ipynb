{
 "cells": [
  {
   "cell_type": "markdown",
   "metadata": {},
   "source": [
    "# Magic Square Puzzle"
   ]
  },
  {
   "cell_type": "markdown",
   "metadata": {},
   "source": [
    "Lucerne University of Applied Sciences and Arts - School of Information Technology\n",
    "\n",
    "A magic square is an arrangement of distinct integers in a square grid, such that the values in each row, in each\n",
    "column and in the two main diagonals all add up to the same number. If n denotes the number of cells,\n",
    "the values 1 to n are to be distributed."
   ]
  },
  {
   "cell_type": "markdown",
   "metadata": {},
   "source": [
    "Imports"
   ]
  },
  {
   "cell_type": "code",
   "execution_count": 1,
   "metadata": {
    "lines_to_next_cell": 1
   },
   "outputs": [],
   "source": [
    "from ortools.sat.python import cp_model\n",
    "from itertools import product\n",
    "import numpy as np"
   ]
  },
  {
   "cell_type": "markdown",
   "metadata": {},
   "source": [
    "Define magic square size"
   ]
  },
  {
   "cell_type": "code",
   "execution_count": 7,
   "metadata": {},
   "outputs": [],
   "source": [
    "n = 3\n",
    "magic_constant = n * (n * n + 1) // 2"
   ]
  },
  {
   "cell_type": "markdown",
   "metadata": {},
   "source": [
    "Create model"
   ]
  },
  {
   "cell_type": "code",
   "execution_count": 8,
   "metadata": {},
   "outputs": [],
   "source": [
    "model = cp_model.CpModel()"
   ]
  },
  {
   "cell_type": "code",
   "execution_count": 9,
   "metadata": {},
   "outputs": [
    {
     "data": {
      "text/plain": [
       "<ortools.sat.python.cp_model.Constraint at 0x114cb5910>"
      ]
     },
     "execution_count": 9,
     "metadata": {},
     "output_type": "execute_result"
    }
   ],
   "source": [
    "# model (create a square of n * n cells containing values from 1 to n^2)\n",
    "board = [[model.NewIntVar(1, n*n, f\"({i}, {j})\") for j in range(1, n+1)] for i in range(1, n+1)]\n",
    "\n",
    "# all numbers must be different, hence a number can only be used once\n",
    "model.AddAllDifferent(list(np.concatenate(board)))\n",
    "    \n",
    "for i in range(n):\n",
    "    model.Add(cp_model.LinearExpr.Sum([board[i][j] for j in range(n)]) == magic_constant)  # rows\n",
    "    model.Add(cp_model.LinearExpr.Sum([board[j][i] for j in range(n)]) == magic_constant)  # columns\n",
    "\n",
    "# diagonal top left to bottom right\n",
    "model.Add(cp_model.LinearExpr.Sum([board[i][i] for i in range(n)]) == magic_constant)\n",
    "# diagonal top right to bottom left\n",
    "model.Add(cp_model.LinearExpr.Sum([board[i][n -1 - i] for i in range(n)]) == magic_constant)"
   ]
  },
  {
   "cell_type": "markdown",
   "metadata": {},
   "source": [
    "Callback for solution printing (adapt if you do not use an n*n board)"
   ]
  },
  {
   "cell_type": "code",
   "execution_count": 10,
   "metadata": {},
   "outputs": [],
   "source": [
    "class SolutionPrinter(cp_model.CpSolverSolutionCallback):\n",
    "    \n",
    "    def __init__(self, variables):\n",
    "        cp_model.CpSolverSolutionCallback.__init__(self)\n",
    "        self.__variables = variables\n",
    "        \n",
    "    def on_solution_callback(self):\n",
    "        for i in range(len(self.__variables)):\n",
    "            for j in range(len(self.__variables)):\n",
    "                print(f\"[{self.Value(self.__variables[i][j])}] \", end='')\n",
    "            print(\"\\n\")\n",
    "        print(\"\\n\\n\")"
   ]
  },
  {
   "cell_type": "markdown",
   "metadata": {},
   "source": [
    "Solve and print all solutions"
   ]
  },
  {
   "cell_type": "code",
   "execution_count": 11,
   "metadata": {},
   "outputs": [
    {
     "name": "stdout",
     "output_type": "stream",
     "text": [
      "[2] [7] [6] \n",
      "\n",
      "[9] [5] [1] \n",
      "\n",
      "[4] [3] [8] \n",
      "\n",
      "\n",
      "\n",
      "\n",
      "[4] [9] [2] \n",
      "\n",
      "[3] [5] [7] \n",
      "\n",
      "[8] [1] [6] \n",
      "\n",
      "\n",
      "\n",
      "\n",
      "[2] [9] [4] \n",
      "\n",
      "[7] [5] [3] \n",
      "\n",
      "[6] [1] [8] \n",
      "\n",
      "\n",
      "\n",
      "\n",
      "[8] [3] [4] \n",
      "\n",
      "[1] [5] [9] \n",
      "\n",
      "[6] [7] [2] \n",
      "\n",
      "\n",
      "\n",
      "\n",
      "[8] [1] [6] \n",
      "\n",
      "[3] [5] [7] \n",
      "\n",
      "[4] [9] [2] \n",
      "\n",
      "\n",
      "\n",
      "\n",
      "[6] [7] [2] \n",
      "\n",
      "[1] [5] [9] \n",
      "\n",
      "[8] [3] [4] \n",
      "\n",
      "\n",
      "\n",
      "\n",
      "[6] [1] [8] \n",
      "\n",
      "[7] [5] [3] \n",
      "\n",
      "[2] [9] [4] \n",
      "\n",
      "\n",
      "\n",
      "\n",
      "[4] [3] [8] \n",
      "\n",
      "[9] [5] [1] \n",
      "\n",
      "[2] [7] [6] \n",
      "\n",
      "\n",
      "\n",
      "\n"
     ]
    }
   ],
   "source": [
    "solver = cp_model.CpSolver()\n",
    "status = solver.SearchForAllSolutions(model, SolutionPrinter(board))"
   ]
  },
  {
   "cell_type": "code",
   "execution_count": 24,
   "metadata": {},
   "outputs": [
    {
     "name": "stdout",
     "output_type": "stream",
     "text": [
      "Runtime:   0.00022300000000000003ms\n",
      "Booleans:  0\n",
      "Failures:  0\n",
      "Branches:  0\n"
     ]
    }
   ],
   "source": [
    "print(f\"Runtime:   {solver.WallTime()}ms\")\n",
    "print(f\"Booleans:  {solver.NumBooleans()}\")\n",
    "print(f\"Failures:  {solver.NumConflicts()}\")\n",
    "print(f\"Branches:  {solver.NumBranches()}\")"
   ]
  },
  {
   "cell_type": "code",
   "execution_count": null,
   "metadata": {},
   "outputs": [],
   "source": []
  }
 ],
 "metadata": {
  "jupytext": {
   "cell_metadata_filter": "-all",
   "main_language": "python",
   "notebook_metadata_filter": "-all",
   "text_representation": {
    "extension": ".py",
    "format_name": "percent"
   }
  },
  "kernelspec": {
   "display_name": "Python 3",
   "language": "python",
   "name": "python3"
  },
  "language_info": {
   "codemirror_mode": {
    "name": "ipython",
    "version": 3
   },
   "file_extension": ".py",
   "mimetype": "text/x-python",
   "name": "python",
   "nbconvert_exporter": "python",
   "pygments_lexer": "ipython3",
   "version": "3.8.1"
  }
 },
 "nbformat": 4,
 "nbformat_minor": 2
}
